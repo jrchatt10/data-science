{
 "cells": [
  {
   "cell_type": "markdown",
   "metadata": {},
   "source": [
    "# Lab 5 - Exploratory Data Analysis"
   ]
  },
  {
   "cell_type": "markdown",
   "metadata": {},
   "source": [
    "## Directions\n",
    "\n",
    "**Failure to follow the directions will result in a \"0\"**\n",
    "\n",
    "The due dates for each are indicated in the Syllabus and the course calendar. If anything is unclear, please email EN605.448@gmail.com the official email for the course or ask questions in the Lab discussion area on Blackboard.\n",
    "\n",
    "The Labs also present technical material that augments the lectures and \"book\".  You should read through the entire lab at the start of each module.\n",
    "\n",
    "### General Instructions\n",
    "\n",
    "1.  You will be submitting your assignment to Blackboard. If there are no accompanying files, you should submit *only* your notebook and it should be named using *only* your JHED id: fsmith79.ipynb for example if your JHED id were \"fsmith79\". If the assignment requires additional files, you should name the *folder/directory* your JHED id and put all items in that folder/directory, ZIP it up (only ZIP...no other compression), and submit it to Blackboard.\n",
    "    \n",
    "    * do **not** use absolute paths in your notebooks. All resources should appear in the same directory as the rest of your assignments.\n",
    "    * the directory **must** be named your JHED id and **only** your JHED id.\n",
    "    \n",
    "2. Data Science is as much about what you write (communicating) as the code you execute (researching). In many places, you will be required to execute code and discuss both the purpose and the result. Additionally, Data Science is about reproducibility and transparency. This includes good communication with your team and possibly with yourself. Therefore, you must show **all** work.\n",
    "\n",
    "3. Avail yourself of the Markdown/Codecell nature of the notebook. If you don't know about Markdown, look it up. Your notebooks should not look like ransom notes. Don't make everything bold. Clearly indicate what question you are answering.\n",
    "\n",
    "4. Submit a cleanly executed notebook. It should say `In [1]` for the first codecell and increase by 1 throughout."
   ]
  },
  {
   "cell_type": "markdown",
   "metadata": {},
   "source": [
    "## Exploratory Data Analysis\n",
    "\n",
    "In this Module, we partitioned the problem of EDA using a taxonomy with the following characteristics:\n",
    "\n",
    "* **Data Type**: Numerical or Categorical.\n",
    "* **Number of Variables**: 1 or many.\n",
    "* **Technique**: descriptive statistics, tables or charts.\n",
    "\n",
    "we will skip \"goal\" for now.\n",
    "\n",
    "And we came up with a general set of tools for analyzing data, not all of them applicable to all the cases:\n",
    "\n",
    "* Descriptive Statistics\n",
    "* Frequency Table (absolute and relative)\n",
    "* Histograms\n",
    "* Boxplots Plot\n",
    "* Bar chart\n",
    "* Dot chart\n",
    "* Heat map\n",
    "* Scatter Plot\n",
    "\n",
    "This does not exhaust all the chart types, though. We also have the following basic chart types that we talked about in the Visualization Module:\n",
    "\n",
    "* Points\n",
    "* Lines\n",
    "* Lines and points\n",
    "\n",
    "The goal for this lab is to get you acquainted with most of these tools by analyzing a real data set. Follow the general directions in this Module for *methodical* EDA including:\n",
    "\n",
    "1. Single Variable Exploration.\n",
    "2. Correlation or Problem driven Exploration of Pairwise Relationships.\n",
    "\n",
    "Because we don't really have a problem or question here, we may have to be exhaustive. There are 21 comparisons possible, start with any 5 of them and then use what you discover to add 5 more.\n",
    "\n",
    "And for each case, try different visualizations. What does a histogram tell you that a box-and-whiskers plot does not and vice versa? What about different bin sizes? And the most important bit: you must write something for every single chart you produce. The emphasis here is on *science*. At every juncture, you must say:\n",
    "\n",
    "1. **Why am I trying this?** \"I'm going to look at this data using a box and whiskers plot to explore its general shape.\" \"I am trying more bins to see if the histogram reveals any interesting characteristics.\"\n",
    "2. **Do it.**\n",
    "3. **What did I learn?** \"Although I know the data is generated from a normal distribution, it doesn't look normally distributed. The sample mean is X while the true mean is Y.\"\n",
    "\n",
    "In EDA, you should generally never just *change* anything. You should copy your code, explain why you're making some change to the parameters, make the change and then note what happens.\n",
    "\n",
    "Be inventive and creative."
   ]
  },
  {
   "cell_type": "code",
   "execution_count": 1,
   "metadata": {},
   "outputs": [],
   "source": [
    "import numpy as np\n",
    "import random as py_random\n",
    "import numpy.random as np_random\n",
    "import time\n",
    "import seaborn as sns\n",
    "import matplotlib.pyplot as plt\n",
    "import pandas as pd\n",
    "import scipy.stats as stats\n",
    "import statsmodels.api as sm\n",
    "\n",
    "sns.set(style=\"whitegrid\")"
   ]
  },
  {
   "cell_type": "markdown",
   "metadata": {},
   "source": [
    "# Answer"
   ]
  },
  {
   "cell_type": "code",
   "execution_count": 2,
   "metadata": {},
   "outputs": [],
   "source": [
    "data = pd.read_csv(\"insurance.csv\")"
   ]
  },
  {
   "cell_type": "code",
   "execution_count": 3,
   "metadata": {},
   "outputs": [
    {
     "data": {
      "text/html": [
       "<div>\n",
       "<style scoped>\n",
       "    .dataframe tbody tr th:only-of-type {\n",
       "        vertical-align: middle;\n",
       "    }\n",
       "\n",
       "    .dataframe tbody tr th {\n",
       "        vertical-align: top;\n",
       "    }\n",
       "\n",
       "    .dataframe thead th {\n",
       "        text-align: right;\n",
       "    }\n",
       "</style>\n",
       "<table border=\"1\" class=\"dataframe\">\n",
       "  <thead>\n",
       "    <tr style=\"text-align: right;\">\n",
       "      <th></th>\n",
       "      <th>age</th>\n",
       "      <th>sex</th>\n",
       "      <th>bmi</th>\n",
       "      <th>children</th>\n",
       "      <th>smoker</th>\n",
       "      <th>region</th>\n",
       "      <th>charges</th>\n",
       "    </tr>\n",
       "  </thead>\n",
       "  <tbody>\n",
       "    <tr>\n",
       "      <th>0</th>\n",
       "      <td>19</td>\n",
       "      <td>female</td>\n",
       "      <td>27.900</td>\n",
       "      <td>0</td>\n",
       "      <td>yes</td>\n",
       "      <td>southwest</td>\n",
       "      <td>16884.92400</td>\n",
       "    </tr>\n",
       "    <tr>\n",
       "      <th>1</th>\n",
       "      <td>18</td>\n",
       "      <td>male</td>\n",
       "      <td>33.770</td>\n",
       "      <td>1</td>\n",
       "      <td>no</td>\n",
       "      <td>southeast</td>\n",
       "      <td>1725.55230</td>\n",
       "    </tr>\n",
       "    <tr>\n",
       "      <th>2</th>\n",
       "      <td>28</td>\n",
       "      <td>male</td>\n",
       "      <td>33.000</td>\n",
       "      <td>3</td>\n",
       "      <td>no</td>\n",
       "      <td>southeast</td>\n",
       "      <td>4449.46200</td>\n",
       "    </tr>\n",
       "    <tr>\n",
       "      <th>3</th>\n",
       "      <td>33</td>\n",
       "      <td>male</td>\n",
       "      <td>22.705</td>\n",
       "      <td>0</td>\n",
       "      <td>no</td>\n",
       "      <td>northwest</td>\n",
       "      <td>21984.47061</td>\n",
       "    </tr>\n",
       "    <tr>\n",
       "      <th>4</th>\n",
       "      <td>32</td>\n",
       "      <td>male</td>\n",
       "      <td>28.880</td>\n",
       "      <td>0</td>\n",
       "      <td>no</td>\n",
       "      <td>northwest</td>\n",
       "      <td>3866.85520</td>\n",
       "    </tr>\n",
       "  </tbody>\n",
       "</table>\n",
       "</div>"
      ],
      "text/plain": [
       "   age     sex     bmi  children smoker     region      charges\n",
       "0   19  female  27.900         0    yes  southwest  16884.92400\n",
       "1   18    male  33.770         1     no  southeast   1725.55230\n",
       "2   28    male  33.000         3     no  southeast   4449.46200\n",
       "3   33    male  22.705         0     no  northwest  21984.47061\n",
       "4   32    male  28.880         0     no  northwest   3866.85520"
      ]
     },
     "execution_count": 3,
     "metadata": {},
     "output_type": "execute_result"
    }
   ],
   "source": [
    "data.head()"
   ]
  },
  {
   "cell_type": "code",
   "execution_count": 4,
   "metadata": {},
   "outputs": [
    {
     "name": "stdout",
     "output_type": "stream",
     "text": [
      "<class 'pandas.core.frame.DataFrame'>\n",
      "RangeIndex: 1338 entries, 0 to 1337\n",
      "Data columns (total 7 columns):\n",
      "age         1338 non-null int64\n",
      "sex         1338 non-null object\n",
      "bmi         1338 non-null float64\n",
      "children    1338 non-null int64\n",
      "smoker      1338 non-null object\n",
      "region      1338 non-null object\n",
      "charges     1338 non-null float64\n",
      "dtypes: float64(2), int64(2), object(3)\n",
      "memory usage: 73.2+ KB\n"
     ]
    }
   ],
   "source": [
    "data.info()"
   ]
  },
  {
   "cell_type": "markdown",
   "metadata": {},
   "source": [
    "## Insurance - Single Variable Exploration"
   ]
  },
  {
   "cell_type": "markdown",
   "metadata": {},
   "source": [
    "### **AGE**\n",
    "Age is an important aspect of insurance as younger ages usually mean a lower insurance. Youth usually equates to health and as one grows older, the body starts to break down causing more health issues. \n",
    "\n",
    "Age is a numerical with multiplicative real values. However here the values will start at 18 instead of 0."
   ]
  },
  {
   "cell_type": "code",
   "execution_count": 5,
   "metadata": {},
   "outputs": [],
   "source": [
    "pd.set_option('display.float_format', lambda x: '%.2f' % x)"
   ]
  },
  {
   "cell_type": "code",
   "execution_count": 6,
   "metadata": {},
   "outputs": [
    {
     "data": {
      "text/plain": [
       "count   1338.00\n",
       "mean      39.21\n",
       "std       14.05\n",
       "min       18.00\n",
       "25%       27.00\n",
       "50%       39.00\n",
       "75%       51.00\n",
       "max       64.00\n",
       "Name: age, dtype: float64"
      ]
     },
     "execution_count": 6,
     "metadata": {},
     "output_type": "execute_result"
    }
   ],
   "source": [
    "data[\"age\"].describe()"
   ]
  },
  {
   "cell_type": "markdown",
   "metadata": {},
   "source": [
    "The age range goes from 18 to 64 with a mean of 39.21. The mean is very close to the median at 39. The max is further away from the mean than the min (same for 75% than 25%) so the data is skewed slightly the lower end."
   ]
  },
  {
   "cell_type": "code",
   "execution_count": 7,
   "metadata": {},
   "outputs": [
    {
     "data": {
      "image/png": "[encoded data removed]",
      "text/plain": [
       "<Figure size 1440x432 with 1 Axes>"
      ]
     },
     "metadata": {
      "needs_background": "light"
     },
     "output_type": "display_data"
    }
   ],
   "source": [
    "figure = plt.figure(figsize=(20, 6))\n",
    "\n",
    "axes = figure.add_subplot(1, 2, 1)\n",
    "axes.hist( data[ \"age\"], color=\"DimGray\")\n",
    "axes.set_ylabel( \"Count\")\n",
    "axes.set_xlabel( \"Age\")\n",
    "axes.set_title(\"Count Histogram of Age; default bins\")\n",
    "\n",
    "plt.show()\n",
    "plt.close()"
   ]
  },
  {
   "cell_type": "markdown",
   "metadata": {},
   "source": [
    "As I asserted in the first description of the data, age is skewed lower. We see a large amount of people (over 200) in the first bin about twice as many as some bins and a third greater than the others. The rest of the bins all however between 100 and 150 people. \n",
    "\n",
    "It stands out that such a larger amount of 18-23 year olds than other bins. I am curious why this is the case. Are more younger people willing to get insured? Does this insurance agency have a program targeted to insure younger people as they are healthier and will be able to be better customers?\n",
    "\n",
    "I would like to get the specific count of each age as well."
   ]
  },
  {
   "cell_type": "code",
   "execution_count": 8,
   "metadata": {},
   "outputs": [
    {
     "data": {
      "text/html": [
       "<div>\n",
       "<style scoped>\n",
       "    .dataframe tbody tr th:only-of-type {\n",
       "        vertical-align: middle;\n",
       "    }\n",
       "\n",
       "    .dataframe tbody tr th {\n",
       "        vertical-align: top;\n",
       "    }\n",
       "\n",
       "    .dataframe thead th {\n",
       "        text-align: right;\n",
       "    }\n",
       "</style>\n",
       "<table border=\"1\" class=\"dataframe\">\n",
       "  <thead>\n",
       "    <tr style=\"text-align: right;\">\n",
       "      <th></th>\n",
       "      <th>age</th>\n",
       "    </tr>\n",
       "  </thead>\n",
       "  <tbody>\n",
       "    <tr>\n",
       "      <th>18</th>\n",
       "      <td>69</td>\n",
       "    </tr>\n",
       "    <tr>\n",
       "      <th>19</th>\n",
       "      <td>68</td>\n",
       "    </tr>\n",
       "    <tr>\n",
       "      <th>20</th>\n",
       "      <td>29</td>\n",
       "    </tr>\n",
       "    <tr>\n",
       "      <th>21</th>\n",
       "      <td>28</td>\n",
       "    </tr>\n",
       "    <tr>\n",
       "      <th>22</th>\n",
       "      <td>28</td>\n",
       "    </tr>\n",
       "    <tr>\n",
       "      <th>23</th>\n",
       "      <td>28</td>\n",
       "    </tr>\n",
       "    <tr>\n",
       "      <th>24</th>\n",
       "      <td>28</td>\n",
       "    </tr>\n",
       "    <tr>\n",
       "      <th>25</th>\n",
       "      <td>28</td>\n",
       "    </tr>\n",
       "    <tr>\n",
       "      <th>26</th>\n",
       "      <td>28</td>\n",
       "    </tr>\n",
       "    <tr>\n",
       "      <th>27</th>\n",
       "      <td>28</td>\n",
       "    </tr>\n",
       "    <tr>\n",
       "      <th>28</th>\n",
       "      <td>28</td>\n",
       "    </tr>\n",
       "    <tr>\n",
       "      <th>29</th>\n",
       "      <td>27</td>\n",
       "    </tr>\n",
       "    <tr>\n",
       "      <th>30</th>\n",
       "      <td>27</td>\n",
       "    </tr>\n",
       "    <tr>\n",
       "      <th>31</th>\n",
       "      <td>27</td>\n",
       "    </tr>\n",
       "    <tr>\n",
       "      <th>32</th>\n",
       "      <td>26</td>\n",
       "    </tr>\n",
       "    <tr>\n",
       "      <th>33</th>\n",
       "      <td>26</td>\n",
       "    </tr>\n",
       "    <tr>\n",
       "      <th>34</th>\n",
       "      <td>26</td>\n",
       "    </tr>\n",
       "    <tr>\n",
       "      <th>35</th>\n",
       "      <td>25</td>\n",
       "    </tr>\n",
       "    <tr>\n",
       "      <th>36</th>\n",
       "      <td>25</td>\n",
       "    </tr>\n",
       "    <tr>\n",
       "      <th>37</th>\n",
       "      <td>25</td>\n",
       "    </tr>\n",
       "    <tr>\n",
       "      <th>38</th>\n",
       "      <td>25</td>\n",
       "    </tr>\n",
       "    <tr>\n",
       "      <th>39</th>\n",
       "      <td>25</td>\n",
       "    </tr>\n",
       "    <tr>\n",
       "      <th>40</th>\n",
       "      <td>27</td>\n",
       "    </tr>\n",
       "    <tr>\n",
       "      <th>41</th>\n",
       "      <td>27</td>\n",
       "    </tr>\n",
       "    <tr>\n",
       "      <th>42</th>\n",
       "      <td>27</td>\n",
       "    </tr>\n",
       "    <tr>\n",
       "      <th>43</th>\n",
       "      <td>27</td>\n",
       "    </tr>\n",
       "    <tr>\n",
       "      <th>44</th>\n",
       "      <td>27</td>\n",
       "    </tr>\n",
       "    <tr>\n",
       "      <th>45</th>\n",
       "      <td>29</td>\n",
       "    </tr>\n",
       "    <tr>\n",
       "      <th>46</th>\n",
       "      <td>29</td>\n",
       "    </tr>\n",
       "    <tr>\n",
       "      <th>47</th>\n",
       "      <td>29</td>\n",
       "    </tr>\n",
       "    <tr>\n",
       "      <th>48</th>\n",
       "      <td>29</td>\n",
       "    </tr>\n",
       "    <tr>\n",
       "      <th>49</th>\n",
       "      <td>28</td>\n",
       "    </tr>\n",
       "    <tr>\n",
       "      <th>50</th>\n",
       "      <td>29</td>\n",
       "    </tr>\n",
       "    <tr>\n",
       "      <th>51</th>\n",
       "      <td>29</td>\n",
       "    </tr>\n",
       "    <tr>\n",
       "      <th>52</th>\n",
       "      <td>29</td>\n",
       "    </tr>\n",
       "    <tr>\n",
       "      <th>53</th>\n",
       "      <td>28</td>\n",
       "    </tr>\n",
       "    <tr>\n",
       "      <th>54</th>\n",
       "      <td>28</td>\n",
       "    </tr>\n",
       "    <tr>\n",
       "      <th>55</th>\n",
       "      <td>26</td>\n",
       "    </tr>\n",
       "    <tr>\n",
       "      <th>56</th>\n",
       "      <td>26</td>\n",
       "    </tr>\n",
       "    <tr>\n",
       "      <th>57</th>\n",
       "      <td>26</td>\n",
       "    </tr>\n",
       "    <tr>\n",
       "      <th>58</th>\n",
       "      <td>25</td>\n",
       "    </tr>\n",
       "    <tr>\n",
       "      <th>59</th>\n",
       "      <td>25</td>\n",
       "    </tr>\n",
       "    <tr>\n",
       "      <th>60</th>\n",
       "      <td>23</td>\n",
       "    </tr>\n",
       "    <tr>\n",
       "      <th>61</th>\n",
       "      <td>23</td>\n",
       "    </tr>\n",
       "    <tr>\n",
       "      <th>62</th>\n",
       "      <td>23</td>\n",
       "    </tr>\n",
       "    <tr>\n",
       "      <th>63</th>\n",
       "      <td>23</td>\n",
       "    </tr>\n",
       "    <tr>\n",
       "      <th>64</th>\n",
       "      <td>22</td>\n",
       "    </tr>\n",
       "  </tbody>\n",
       "</table>\n",
       "</div>"
      ],
      "text/plain": [
       "    age\n",
       "18   69\n",
       "19   68\n",
       "20   29\n",
       "21   28\n",
       "22   28\n",
       "23   28\n",
       "24   28\n",
       "25   28\n",
       "26   28\n",
       "27   28\n",
       "28   28\n",
       "29   27\n",
       "30   27\n",
       "31   27\n",
       "32   26\n",
       "33   26\n",
       "34   26\n",
       "35   25\n",
       "36   25\n",
       "37   25\n",
       "38   25\n",
       "39   25\n",
       "40   27\n",
       "41   27\n",
       "42   27\n",
       "43   27\n",
       "44   27\n",
       "45   29\n",
       "46   29\n",
       "47   29\n",
       "48   29\n",
       "49   28\n",
       "50   29\n",
       "51   29\n",
       "52   29\n",
       "53   28\n",
       "54   28\n",
       "55   26\n",
       "56   26\n",
       "57   26\n",
       "58   25\n",
       "59   25\n",
       "60   23\n",
       "61   23\n",
       "62   23\n",
       "63   23\n",
       "64   22"
      ]
     },
     "execution_count": 8,
     "metadata": {},
     "output_type": "execute_result"
    }
   ],
   "source": [
    "pd.DataFrame(data[\"age\"].value_counts().sort_index())"
   ]
  },
  {
   "cell_type": "markdown",
   "metadata": {},
   "source": [
    "Now we can clearly see why the first bin is so large. 18 and 19 year olds are skewing the data set with over double the amount of any other age."
   ]
  },
  {
   "cell_type": "markdown",
   "metadata": {},
   "source": [
    "### **SEX**\n",
    "Sex is a curious variable as men and women have a variety of different health concerns. A significant health factor for women is pregnancy which can have signficant healthcare costs. \n",
    "\n",
    "Sex is a categorical variable with either male or female. As the population is generally 50/50 I would assume that the data population is also."
   ]
  },
  {
   "cell_type": "code",
   "execution_count": 9,
   "metadata": {},
   "outputs": [
    {
     "data": {
      "text/html": [
       "<div>\n",
       "<style scoped>\n",
       "    .dataframe tbody tr th:only-of-type {\n",
       "        vertical-align: middle;\n",
       "    }\n",
       "\n",
       "    .dataframe tbody tr th {\n",
       "        vertical-align: top;\n",
       "    }\n",
       "\n",
       "    .dataframe thead th {\n",
       "        text-align: right;\n",
       "    }\n",
       "</style>\n",
       "<table border=\"1\" class=\"dataframe\">\n",
       "  <thead>\n",
       "    <tr style=\"text-align: right;\">\n",
       "      <th></th>\n",
       "      <th>sex</th>\n",
       "    </tr>\n",
       "  </thead>\n",
       "  <tbody>\n",
       "    <tr>\n",
       "      <th>female</th>\n",
       "      <td>662</td>\n",
       "    </tr>\n",
       "    <tr>\n",
       "      <th>male</th>\n",
       "      <td>676</td>\n",
       "    </tr>\n",
       "  </tbody>\n",
       "</table>\n",
       "</div>"
      ],
      "text/plain": [
       "        sex\n",
       "female  662\n",
       "male    676"
      ]
     },
     "execution_count": 9,
     "metadata": {},
     "output_type": "execute_result"
    }
   ],
   "source": [
    "pd.DataFrame(data[\"sex\"].value_counts().sort_index())"
   ]
  },
  {
   "cell_type": "markdown",
   "metadata": {},
   "source": [
    "The data shows practically a 50/50 split with only 14 more males out of a total of 1338 people.\n",
    "\n",
    "I will plot the frequencies of sex to show the percentage and how close they are. "
   ]
  },
  {
   "cell_type": "code",
   "execution_count": 10,
   "metadata": {},
   "outputs": [
    {
     "data": {
      "image/png": "[encoded data removed]",
      "text/plain": [
       "<Figure size 720x432 with 1 Axes>"
      ]
     },
     "metadata": {
      "needs_background": "light"
     },
     "output_type": "display_data"
    }
   ],
   "source": [
    "counts = data[\"sex\"].value_counts().sort_index()\n",
    "proportions = data[\"sex\"].value_counts(normalize=True).sort_index()\n",
    "x = range( len( counts))\n",
    "width = 1/1.5\n",
    "\n",
    "figure = plt.figure(figsize=(10, 6))\n",
    "\n",
    "axes = figure.add_subplot(1, 1, 1)\n",
    "axes.bar(x, proportions, width, color=\"dimgray\", align=\"center\")\n",
    "axes.set_xlabel(\"Sex\")\n",
    "axes.set_xticks(x)\n",
    "axes.set_xticklabels(proportions.axes[0])\n",
    "axes.set_title( \"Relative Frequency of Each Sex\")\n",
    "axes.set_ylabel( \"Percent\")\n",
    "axes.xaxis.grid(False)\n",
    "\n",
    "plt.show()\n",
    "plt.close()"
   ]
  },
  {
   "cell_type": "markdown",
   "metadata": {},
   "source": [
    "Again, this shows how close to 50/50 the data is, just as initially expected. "
   ]
  },
  {
   "cell_type": "markdown",
   "metadata": {},
   "source": [
    "### **BMI**\n",
    "BMI is an interesting variable. For how it is calculated based on height and weight, BMI is a multiplicative numeric variable. However, BMI is usually parsed into four buckets:\n",
    "\n",
    "Underweight = <18.5\n",
    "\n",
    "Normal weight = 18.5–24.9 \n",
    "\n",
    "Overweight = 25–29.9 \n",
    "\n",
    "Obesity = BMI of 30 or greater\n",
    "\n",
    "(https://www.nhlbi.nih.gov/health/educational/lose_wt/BMI/bmicalc.htm)\n",
    "\n",
    "In general, normal weight would be best for health. Obesity would lend to higher insurance costs as it is associated with many health issues."
   ]
  },
  {
   "cell_type": "code",
   "execution_count": 11,
   "metadata": {},
   "outputs": [
    {
     "data": {
      "text/plain": [
       "count   1338.00\n",
       "mean      30.66\n",
       "std        6.10\n",
       "min       15.96\n",
       "25%       26.30\n",
       "50%       30.40\n",
       "75%       34.69\n",
       "max       53.13\n",
       "Name: bmi, dtype: float64"
      ]
     },
     "execution_count": 11,
     "metadata": {},
     "output_type": "execute_result"
    }
   ],
   "source": [
    "data[\"bmi\"].describe()"
   ]
  },
  {
   "cell_type": "markdown",
   "metadata": {},
   "source": [
    "The minimum is 15.96 with a max of 53.13 and mean of 30.66. The median is about the same as well. This puts the data population on average as obese. The max is much farther above the median (and mean) than the minimum, but since the mean is almost equal to the median there are most likely more people with lower BMIs while there are a few people with extremely high values. We can see this with a box plot."
   ]
  },
  {
   "cell_type": "code",
   "execution_count": 12,
   "metadata": {},
   "outputs": [
    {
     "data": {
      "image/png": "[encoded data removed]",
      "text/plain": [
       "<Figure size 1440x432 with 1 Axes>"
      ]
     },
     "metadata": {
      "needs_background": "light"
     },
     "output_type": "display_data"
    }
   ],
   "source": [
    "figure = plt.figure(figsize=(20, 6))\n",
    "\n",
    "axes = figure.add_subplot(1, 1, 1)\n",
    "patch = axes.boxplot(data[ \"bmi\"], labels=[''], showfliers=True, patch_artist=False, zorder=1)\n",
    "axes.set_title(\"Distribution of BMI\")\n",
    "axes.set_ylabel(\"BMI\")\n",
    "\n",
    "plt.show()\n",
    "plt.close()"
   ]
  },
  {
   "cell_type": "markdown",
   "metadata": {},
   "source": [
    "The box plot shows no outliers on the low end but a handful on the high end. This makes sense as it is easier to be more obese than to be as skinny."
   ]
  },
  {
   "cell_type": "markdown",
   "metadata": {},
   "source": [
    "### **Children**\n",
    "Children is a different variable. It is numerical so we can calculate the standard descriptive statistics but since there are not many values and they are all whole numbers, it can be viewed similar to a categorical variable as well. The more children one has, the more their insurance charges would increase as there are more people to care for."
   ]
  },
  {
   "cell_type": "code",
   "execution_count": 13,
   "metadata": {},
   "outputs": [
    {
     "data": {
      "text/plain": [
       "count   1338.00\n",
       "mean       1.09\n",
       "std        1.21\n",
       "min        0.00\n",
       "25%        0.00\n",
       "50%        1.00\n",
       "75%        2.00\n",
       "max        5.00\n",
       "Name: children, dtype: float64"
      ]
     },
     "execution_count": 13,
     "metadata": {},
     "output_type": "execute_result"
    }
   ],
   "source": [
    "data[\"children\"].describe()"
   ]
  },
  {
   "cell_type": "markdown",
   "metadata": {},
   "source": [
    "The lowest value of zero makes sense which is also the 25th percentile. The median is 1 so there are good amount with small families. This makes sense as there are a lot more people 18 and 19 in this data who would usually not have any children. Let's look at this data as categorical as well do to only having 5 possible values."
   ]
  },
  {
   "cell_type": "code",
   "execution_count": 14,
   "metadata": {},
   "outputs": [
    {
     "data": {
      "text/html": [
       "<div>\n",
       "<style scoped>\n",
       "    .dataframe tbody tr th:only-of-type {\n",
       "        vertical-align: middle;\n",
       "    }\n",
       "\n",
       "    .dataframe tbody tr th {\n",
       "        vertical-align: top;\n",
       "    }\n",
       "\n",
       "    .dataframe thead th {\n",
       "        text-align: right;\n",
       "    }\n",
       "</style>\n",
       "<table border=\"1\" class=\"dataframe\">\n",
       "  <thead>\n",
       "    <tr style=\"text-align: right;\">\n",
       "      <th></th>\n",
       "      <th>children</th>\n",
       "    </tr>\n",
       "  </thead>\n",
       "  <tbody>\n",
       "    <tr>\n",
       "      <th>0</th>\n",
       "      <td>574</td>\n",
       "    </tr>\n",
       "    <tr>\n",
       "      <th>1</th>\n",
       "      <td>324</td>\n",
       "    </tr>\n",
       "    <tr>\n",
       "      <th>2</th>\n",
       "      <td>240</td>\n",
       "    </tr>\n",
       "    <tr>\n",
       "      <th>3</th>\n",
       "      <td>157</td>\n",
       "    </tr>\n",
       "    <tr>\n",
       "      <th>4</th>\n",
       "      <td>25</td>\n",
       "    </tr>\n",
       "    <tr>\n",
       "      <th>5</th>\n",
       "      <td>18</td>\n",
       "    </tr>\n",
       "  </tbody>\n",
       "</table>\n",
       "</div>"
      ],
      "text/plain": [
       "   children\n",
       "0       574\n",
       "1       324\n",
       "2       240\n",
       "3       157\n",
       "4        25\n",
       "5        18"
      ]
     },
     "execution_count": 14,
     "metadata": {},
     "output_type": "execute_result"
    }
   ],
   "source": [
    "pd.DataFrame(data[\"children\"].value_counts().sort_index())"
   ]
  },
  {
   "cell_type": "markdown",
   "metadata": {},
   "source": [
    "The distribution shows many more people with 0 children than any other with 1 and 2 children together not even being greater. We can plot this with a bar graph to show the percentage distributions."
   ]
  },
  {
   "cell_type": "code",
   "execution_count": 15,
   "metadata": {},
   "outputs": [
    {
     "data": {
      "image/png": "[encoded data removed]",
      "text/plain": [
       "<Figure size 720x432 with 1 Axes>"
      ]
     },
     "metadata": {
      "needs_background": "light"
     },
     "output_type": "display_data"
    }
   ],
   "source": [
    "counts = data[\"children\"].value_counts().sort_index()\n",
    "proportions = data[\"children\"].value_counts(normalize=True).sort_index()\n",
    "x = range( len( counts))\n",
    "width = 1/1.5\n",
    "\n",
    "figure = plt.figure(figsize=(10, 6))\n",
    "\n",
    "axes = figure.add_subplot(1, 1, 1)\n",
    "axes.bar(x, proportions, width, color=\"dimgray\", align=\"center\")\n",
    "axes.set_xlabel(\"Children\")\n",
    "axes.set_xticks(x)\n",
    "axes.set_xticklabels(proportions.axes[0])\n",
    "axes.set_title( \"Relative Frequency of amount of children\")\n",
    "axes.set_ylabel( \"Percent\")\n",
    "axes.xaxis.grid(False)\n",
    "\n",
    "plt.show()\n",
    "plt.close()"
   ]
  },
  {
   "cell_type": "markdown",
   "metadata": {},
   "source": [
    "With the above bar graph we can see that over 40% of all people have no children and almost 25% have 1 child. Very few have 4 or 5 children."
   ]
  },
  {
   "cell_type": "markdown",
   "metadata": {},
   "source": [
    "### **Smoker**\n",
    "Smoker is a categorical binary variable with yes and no. I expect smoker to have higer charges than non-smoker as smoking can lead to more health issues."
   ]
  },
  {
   "cell_type": "code",
   "execution_count": 16,
   "metadata": {},
   "outputs": [
    {
     "data": {
      "text/html": [
       "<div>\n",
       "<style scoped>\n",
       "    .dataframe tbody tr th:only-of-type {\n",
       "        vertical-align: middle;\n",
       "    }\n",
       "\n",
       "    .dataframe tbody tr th {\n",
       "        vertical-align: top;\n",
       "    }\n",
       "\n",
       "    .dataframe thead th {\n",
       "        text-align: right;\n",
       "    }\n",
       "</style>\n",
       "<table border=\"1\" class=\"dataframe\">\n",
       "  <thead>\n",
       "    <tr style=\"text-align: right;\">\n",
       "      <th></th>\n",
       "      <th>smoker</th>\n",
       "    </tr>\n",
       "  </thead>\n",
       "  <tbody>\n",
       "    <tr>\n",
       "      <th>no</th>\n",
       "      <td>1064</td>\n",
       "    </tr>\n",
       "    <tr>\n",
       "      <th>yes</th>\n",
       "      <td>274</td>\n",
       "    </tr>\n",
       "  </tbody>\n",
       "</table>\n",
       "</div>"
      ],
      "text/plain": [
       "     smoker\n",
       "no     1064\n",
       "yes     274"
      ]
     },
     "execution_count": 16,
     "metadata": {},
     "output_type": "execute_result"
    }
   ],
   "source": [
    "pd.DataFrame(data[\"smoker\"].value_counts().sort_index())"
   ]
  },
  {
   "cell_type": "markdown",
   "metadata": {},
   "source": [
    "Most people are non-smokers while only a few are smokers. I will plot the bar graph of the relative frequencies to give a more visual picture of this data."
   ]
  },
  {
   "cell_type": "code",
   "execution_count": 17,
   "metadata": {},
   "outputs": [
    {
     "data": {
      "image/png": "[encoded data removed]",
      "text/plain": [
       "<Figure size 720x432 with 1 Axes>"
      ]
     },
     "metadata": {
      "needs_background": "light"
     },
     "output_type": "display_data"
    }
   ],
   "source": [
    "counts = data[\"smoker\"].value_counts().sort_index()\n",
    "proportions = data[\"smoker\"].value_counts(normalize=True).sort_index()\n",
    "x = range( len( counts))\n",
    "width = 1/1.5\n",
    "\n",
    "figure = plt.figure(figsize=(10, 6))\n",
    "\n",
    "axes = figure.add_subplot(1, 1, 1)\n",
    "axes.bar(x, proportions, width, color=\"dimgray\", align=\"center\")\n",
    "axes.set_xlabel(\"Smoker\")\n",
    "axes.set_xticks(x)\n",
    "axes.set_xticklabels(proportions.axes[0])\n",
    "axes.set_title( \"Relative Frequency of Being of Smoker\")\n",
    "axes.set_ylabel( \"Percent\")\n",
    "axes.xaxis.grid(False)\n",
    "\n",
    "plt.show()\n",
    "plt.close()"
   ]
  },
  {
   "cell_type": "markdown",
   "metadata": {},
   "source": [
    "Non-smokers make up close to 80% of the people in the data set."
   ]
  },
  {
   "cell_type": "markdown",
   "metadata": {},
   "source": [
    "### **Region**\n",
    "Region is a categorical variable describing where each person is from. I expect the amount of people in each region to be about the same unless the insurance agency is based out of a specific region which would have more people with them from that area."
   ]
  },
  {
   "cell_type": "code",
   "execution_count": 18,
   "metadata": {},
   "outputs": [
    {
     "data": {
      "text/html": [
       "<div>\n",
       "<style scoped>\n",
       "    .dataframe tbody tr th:only-of-type {\n",
       "        vertical-align: middle;\n",
       "    }\n",
       "\n",
       "    .dataframe tbody tr th {\n",
       "        vertical-align: top;\n",
       "    }\n",
       "\n",
       "    .dataframe thead th {\n",
       "        text-align: right;\n",
       "    }\n",
       "</style>\n",
       "<table border=\"1\" class=\"dataframe\">\n",
       "  <thead>\n",
       "    <tr style=\"text-align: right;\">\n",
       "      <th></th>\n",
       "      <th>region</th>\n",
       "    </tr>\n",
       "  </thead>\n",
       "  <tbody>\n",
       "    <tr>\n",
       "      <th>northeast</th>\n",
       "      <td>324</td>\n",
       "    </tr>\n",
       "    <tr>\n",
       "      <th>northwest</th>\n",
       "      <td>325</td>\n",
       "    </tr>\n",
       "    <tr>\n",
       "      <th>southeast</th>\n",
       "      <td>364</td>\n",
       "    </tr>\n",
       "    <tr>\n",
       "      <th>southwest</th>\n",
       "      <td>325</td>\n",
       "    </tr>\n",
       "  </tbody>\n",
       "</table>\n",
       "</div>"
      ],
      "text/plain": [
       "           region\n",
       "northeast     324\n",
       "northwest     325\n",
       "southeast     364\n",
       "southwest     325"
      ]
     },
     "execution_count": 18,
     "metadata": {},
     "output_type": "execute_result"
    }
   ],
   "source": [
    "pd.DataFrame(data[\"region\"].value_counts().sort_index())"
   ]
  },
  {
   "cell_type": "markdown",
   "metadata": {},
   "source": [
    "The data does show that they are about even at least for NE, NW, and SW. SE has about 40 more people than the other regions but that is not a ton more. We can see the frequencies in the following bar chart."
   ]
  },
  {
   "cell_type": "code",
   "execution_count": 19,
   "metadata": {},
   "outputs": [
    {
     "data": {
      "image/png": "[encoded data removed]",
      "text/plain": [
       "<Figure size 720x432 with 1 Axes>"
      ]
     },
     "metadata": {
      "needs_background": "light"
     },
     "output_type": "display_data"
    }
   ],
   "source": [
    "counts = data[\"region\"].value_counts().sort_index()\n",
    "proportions = data[\"region\"].value_counts(normalize=True).sort_index()\n",
    "x = range( len( counts))\n",
    "width = 1/1.5\n",
    "\n",
    "figure = plt.figure(figsize=(10, 6))\n",
    "\n",
    "axes = figure.add_subplot(1, 1, 1)\n",
    "axes.bar(x, proportions, width, color=\"dimgray\", align=\"center\")\n",
    "axes.set_xlabel(\"Region\")\n",
    "axes.set_xticks(x)\n",
    "axes.set_xticklabels(proportions.axes[0])\n",
    "axes.set_title( \"Relative Frequency of each Region\")\n",
    "axes.set_ylabel( \"Percent\")\n",
    "axes.xaxis.grid(False)\n",
    "\n",
    "plt.show()\n",
    "plt.close()"
   ]
  },
  {
   "cell_type": "markdown",
   "metadata": {},
   "source": [
    "This chart shows how they all hover around 25% of the total data as expected. However, the SE region has the slight bump above the rest."
   ]
  },
  {
   "cell_type": "markdown",
   "metadata": {},
   "source": [
    "### **Charges**\n",
    "Charges is the main variable are interested in with the other variables potentially ones that have an affect on this variable. I expect to see a lot of smaller charges from healthy people and then fewer and fewer charges in the more expensive range."
   ]
  },
  {
   "cell_type": "code",
   "execution_count": 20,
   "metadata": {},
   "outputs": [
    {
     "data": {
      "text/plain": [
       "count    1338.00\n",
       "mean    13270.42\n",
       "std     12110.01\n",
       "min      1121.87\n",
       "25%      4740.29\n",
       "50%      9382.03\n",
       "75%     16639.91\n",
       "max     63770.43\n",
       "Name: charges, dtype: float64"
      ]
     },
     "execution_count": 20,
     "metadata": {},
     "output_type": "execute_result"
    }
   ],
   "source": [
    "data[\"charges\"].describe()"
   ]
  },
  {
   "cell_type": "markdown",
   "metadata": {},
   "source": [
    "The min is 1121.87 with a max at 63770.43. That is a large range for insurance charges with the median at 9382.03. The mean is much higher than the median at 13270.42. The data is skewed right so I should expect to see the distribution with much more data points on the left of the data set and a few very large points on the right. "
   ]
  },
  {
   "cell_type": "code",
   "execution_count": 21,
   "metadata": {},
   "outputs": [
    {
     "data": {
      "image/png": "[encoded data removed]",
      "text/plain": [
       "<Figure size 1440x432 with 1 Axes>"
      ]
     },
     "metadata": {
      "needs_background": "light"
     },
     "output_type": "display_data"
    }
   ],
   "source": [
    "figure = plt.figure(figsize=(20, 6))\n",
    "\n",
    "axes = figure.add_subplot(1, 2, 1)\n",
    "axes.hist( data[ \"charges\"], color=\"DimGray\")\n",
    "axes.set_ylabel( \"Count\")\n",
    "axes.set_xlabel( \"Charges\")\n",
    "axes.set_title(\"Count Histogram of Charges; default bins\")\n",
    "\n",
    "plt.show()\n",
    "plt.close()"
   ]
  },
  {
   "cell_type": "markdown",
   "metadata": {},
   "source": [
    "The above histogram shows the skew however I would like to specifically see the outliers of this data. Box plots are good for showing those outliers beyond the whiskers. A horizontal box plot will be similar to the histogram above."
   ]
  },
  {
   "cell_type": "code",
   "execution_count": 22,
   "metadata": {},
   "outputs": [
    {
     "data": {
      "image/png": "[encoded data removed]",
      "text/plain": [
       "<Figure size 1440x432 with 1 Axes>"
      ]
     },
     "metadata": {
      "needs_background": "light"
     },
     "output_type": "display_data"
    }
   ],
   "source": [
    "figure = plt.figure(figsize=(20, 6))\n",
    "\n",
    "axes = figure.add_subplot(1, 1, 1)\n",
    "patch = axes.boxplot(data[ \"charges\"], labels=[''], showfliers=True, patch_artist=False, zorder=1, vert=False)\n",
    "axes.set_title(\"Distribution of Charges\")\n",
    "axes.set_ylabel(\"Charges\")\n",
    "\n",
    "plt.show()\n",
    "plt.close()"
   ]
  },
  {
   "cell_type": "markdown",
   "metadata": {},
   "source": [
    "There are no outliers on the lower end while there are a large amount on the upper end that start around 35,000. There are outliers even 30,000 larger than the first outlier (practically double) which shows how large these maximum values are."
   ]
  },
  {
   "cell_type": "markdown",
   "metadata": {},
   "source": [
    "## Insurance - Pairwise Exploration\n",
    "\n",
    "Through out the beginning of this exploration I was stating that the charges variable is what the rest of the data may be used to explain. However, this may not be the case but also that many other interesting relationships can be gleaned. "
   ]
  },
  {
   "cell_type": "code",
   "execution_count": 23,
   "metadata": {},
   "outputs": [],
   "source": [
    "def correlation(data, x, y):\n",
    "    print(\"Correlation coefficients:\")\n",
    "    print( \"r   =\", stats.pearsonr(data[x], data[y])[0])\n",
    "    print( \"rho =\", stats.spearmanr(data[x], data[y])[0])"
   ]
  },
  {
   "cell_type": "code",
   "execution_count": 24,
   "metadata": {},
   "outputs": [],
   "source": [
    "def lowess_scatter(data, x, y, jitter=0.0, skip_lowess=False):\n",
    "\n",
    "    if skip_lowess:\n",
    "        fit = np.polyfit(data[x], data[y], 1)\n",
    "        line_x = np.linspace(data[x].min(), data[x].max(), 10)\n",
    "        line = np.poly1d(fit)\n",
    "        line_y = list(map(line, line_x))\n",
    "    else:\n",
    "        lowess = sm.nonparametric.lowess(data[y], data[x], frac=.3)\n",
    "        line_x = list(zip(*lowess))[0]\n",
    "        line_y = list(zip(*lowess))[1]\n",
    "\n",
    "    figure = plt.figure(figsize=(10, 6))\n",
    "\n",
    "    axes = figure.add_subplot(1, 1, 1)\n",
    "\n",
    "    xs = data[x]\n",
    "    if jitter > 0.0:\n",
    "        xs = data[x] + stats.norm.rvs( 0, 0.5, data[x].size)\n",
    "\n",
    "    axes.scatter(xs, data[y], marker=\"o\", color=\"DimGray\", alpha=0.5)\n",
    "    axes.plot(line_x, line_y, color=\"DarkRed\")\n",
    "\n",
    "    title = \"Plot of {0} v. {1}\".format(x, y)\n",
    "    if not skip_lowess:\n",
    "        title += \" with LOWESS\"\n",
    "    axes.set_title(title)\n",
    "    axes.set_xlabel(x)\n",
    "    axes.set_ylabel(y)\n",
    "\n",
    "    plt.show()\n",
    "    plt.close()"
   ]
  },
  {
   "cell_type": "markdown",
   "metadata": {},
   "source": [
    "### Sex and Smoker\n",
    "\n",
    "Sex and smoker are both categorical binary variables. Sex has the two categories of male and female while Smoker has the two categories yes and no. We can look at the amount of people that fall into each category, the joint distributions, and the conditional distributions. I am unsure what I may find but do expect this all to have an even split across the board.\n",
    "\n",
    "For reference, here are the individual variable counts:"
   ]
  },
  {
   "cell_type": "code",
   "execution_count": 25,
   "metadata": {},
   "outputs": [
    {
     "data": {
      "text/html": [
       "<div>\n",
       "<style scoped>\n",
       "    .dataframe tbody tr th:only-of-type {\n",
       "        vertical-align: middle;\n",
       "    }\n",
       "\n",
       "    .dataframe tbody tr th {\n",
       "        vertical-align: top;\n",
       "    }\n",
       "\n",
       "    .dataframe thead th {\n",
       "        text-align: right;\n",
       "    }\n",
       "</style>\n",
       "<table border=\"1\" class=\"dataframe\">\n",
       "  <thead>\n",
       "    <tr style=\"text-align: right;\">\n",
       "      <th></th>\n",
       "      <th>sex</th>\n",
       "    </tr>\n",
       "  </thead>\n",
       "  <tbody>\n",
       "    <tr>\n",
       "      <th>female</th>\n",
       "      <td>662</td>\n",
       "    </tr>\n",
       "    <tr>\n",
       "      <th>male</th>\n",
       "      <td>676</td>\n",
       "    </tr>\n",
       "  </tbody>\n",
       "</table>\n",
       "</div>"
      ],
      "text/plain": [
       "        sex\n",
       "female  662\n",
       "male    676"
      ]
     },
     "execution_count": 25,
     "metadata": {},
     "output_type": "execute_result"
    }
   ],
   "source": [
    "pd.DataFrame(data[\"sex\"].value_counts().sort_index())"
   ]
  },
  {
   "cell_type": "code",
   "execution_count": 26,
   "metadata": {},
   "outputs": [
    {
     "data": {
      "text/html": [
       "<div>\n",
       "<style scoped>\n",
       "    .dataframe tbody tr th:only-of-type {\n",
       "        vertical-align: middle;\n",
       "    }\n",
       "\n",
       "    .dataframe tbody tr th {\n",
       "        vertical-align: top;\n",
       "    }\n",
       "\n",
       "    .dataframe thead th {\n",
       "        text-align: right;\n",
       "    }\n",
       "</style>\n",
       "<table border=\"1\" class=\"dataframe\">\n",
       "  <thead>\n",
       "    <tr style=\"text-align: right;\">\n",
       "      <th></th>\n",
       "      <th>smoker</th>\n",
       "    </tr>\n",
       "  </thead>\n",
       "  <tbody>\n",
       "    <tr>\n",
       "      <th>no</th>\n",
       "      <td>1064</td>\n",
       "    </tr>\n",
       "    <tr>\n",
       "      <th>yes</th>\n",
       "      <td>274</td>\n",
       "    </tr>\n",
       "  </tbody>\n",
       "</table>\n",
       "</div>"
      ],
      "text/plain": [
       "     smoker\n",
       "no     1064\n",
       "yes     274"
      ]
     },
     "execution_count": 26,
     "metadata": {},
     "output_type": "execute_result"
    }
   ],
   "source": [
    "pd.DataFrame(data[\"smoker\"].value_counts().sort_index())"
   ]
  },
  {
   "cell_type": "code",
   "execution_count": 27,
   "metadata": {},
   "outputs": [
    {
     "name": "stdout",
     "output_type": "stream",
     "text": [
      "smoker   no  yes\n",
      "sex             \n",
      "female  547  115\n",
      "male    517  159\n"
     ]
    }
   ],
   "source": [
    "print( pd.crosstab( data[ \"sex\"], data[ \"smoker\"]))"
   ]
  },
  {
   "cell_type": "markdown",
   "metadata": {},
   "source": [
    "From the above it looks as if a higher percentage of males are smokers than femails. To be sure I will run find the joint probability distribution."
   ]
  },
  {
   "cell_type": "code",
   "execution_count": 28,
   "metadata": {},
   "outputs": [
    {
     "name": "stdout",
     "output_type": "stream",
     "text": [
      "smoker   no  yes\n",
      "sex             \n",
      "female 0.41 0.09\n",
      "male   0.39 0.12\n"
     ]
    }
   ],
   "source": [
    "result = pd.crosstab( data[ \"sex\"], data[ \"smoker\"]).apply(lambda r: r/len(data), axis=1)\n",
    "print( result)"
   ]
  },
  {
   "cell_type": "markdown",
   "metadata": {},
   "source": [
    "The conditional distribution will give a clearer picture for given the sex what is the probability they are a smoker. The above shows that the highest percentage of people are female non-smokers and the lowest is female smokers. This does show that less females are smokers than males."
   ]
  },
  {
   "cell_type": "code",
   "execution_count": 29,
   "metadata": {},
   "outputs": [
    {
     "name": "stdout",
     "output_type": "stream",
     "text": [
      "smoker   no  yes\n",
      "sex             \n",
      "female 0.83 0.17\n",
      "male   0.76 0.24\n"
     ]
    }
   ],
   "source": [
    "frequencies = pd.crosstab( data[\"sex\"], data[\"smoker\"]).apply(lambda r: r/r.sum(), axis=1)\n",
    "print(frequencies)"
   ]
  },
  {
   "cell_type": "markdown",
   "metadata": {},
   "source": [
    "This is spelled out further with the conditional probabilities. Given the person is female, they are a non-smoker 83% of the time, and if they are male, they are a smoker 76% of the time."
   ]
  },
  {
   "cell_type": "markdown",
   "metadata": {},
   "source": [
    "### Age and Smoker\n",
    "\n",
    "Building off of the smoker theme, I am also interested in seeing how age can affect smoking. Do ages have a different rate of smoking? Age is a numerical variable while smoker is a binary categorical variable. \n",
    "\n",
    "We can look at the summary statistics for age between the categories of smoker and non-smoker."
   ]
  },
  {
   "cell_type": "code",
   "execution_count": 30,
   "metadata": {},
   "outputs": [
    {
     "name": "stdout",
     "output_type": "stream",
     "text": [
      "         count  mean   std   min   25%   50%   75%   max\n",
      "smoker                                                  \n",
      "no     1064.00 39.39 14.08 18.00 26.75 40.00 52.00 64.00\n",
      "yes     274.00 38.51 13.92 18.00 27.00 38.00 49.00 64.00\n"
     ]
    }
   ],
   "source": [
    "grouped = data.groupby( \"smoker\")\n",
    "grouped_age = grouped[\"age\"].describe()\n",
    "print(grouped_age)"
   ]
  },
  {
   "cell_type": "markdown",
   "metadata": {},
   "source": [
    "First, we see that there are many more non-smokers, but the overall statistics are pretty similar. The min and max are the same which spans the whole data set for both. The percentiles are about the same and so is the mean but the larger values are a bit lower for smokers than non-smokers but by only a few years.\n",
    "\n",
    "Let's compare the distributions with horizontal box plots."
   ]
  },
  {
   "cell_type": "code",
   "execution_count": 31,
   "metadata": {},
   "outputs": [
    {
     "data": {
      "image/png": "[encoded data removed]",
      "text/plain": [
       "<Figure size 720x432 with 1 Axes>"
      ]
     },
     "metadata": {
      "needs_background": "light"
     },
     "output_type": "display_data"
    }
   ],
   "source": [
    "figure = plt.figure(figsize=(10, 6))\n",
    "\n",
    "axes = figure.add_subplot(1, 1, 1)\n",
    "\n",
    "labels = pd.unique(data[\"smoker\"].values)\n",
    "grouped_data = [grouped[ \"age\"].get_group( k) for k in labels]\n",
    "patch = axes.boxplot( grouped_data, labels=labels, patch_artist=False, zorder=1, vert=False)\n",
    "\n",
    "axes.set_xlabel(\"Age\")\n",
    "axes.set_ylabel(\"Smoker\")\n",
    "axes.set_title(\"Age by Distribution of Smoker\")\n",
    "\n",
    "plt.show()\n",
    "plt.close()"
   ]
  },
  {
   "cell_type": "markdown",
   "metadata": {},
   "source": [
    "The box plots give a nice picture showing that the IQR is more compact for smokers so there are a higher percentage that smoke in that age range than don't smoke. It may be interesting to explore age as a categorical variable with buckets of ages of 5 year spans or something similar but that may be digging too far in to force some kind of pattern."
   ]
  },
  {
   "cell_type": "markdown",
   "metadata": {},
   "source": [
    "### BMI and Region\n",
    "\n",
    "Comparing the variables especially with the categorical ones has been especially interesting so I will continue that trend with BMI and region. There may be a specific region that has specific dietary habits resulting in a higher BMI. We can first look at the summary statistics of BMI across region."
   ]
  },
  {
   "cell_type": "code",
   "execution_count": 32,
   "metadata": {},
   "outputs": [
    {
     "name": "stdout",
     "output_type": "stream",
     "text": [
      "           count  mean  std   min   25%   50%   75%   max\n",
      "region                                                   \n",
      "northeast 324.00 29.17 5.94 15.96 24.87 28.88 32.89 48.07\n",
      "northwest 325.00 29.20 5.14 17.39 25.75 28.88 32.77 42.94\n",
      "southeast 364.00 33.36 6.48 19.80 28.57 33.33 37.81 53.13\n",
      "southwest 325.00 30.60 5.69 17.40 26.90 30.30 34.60 47.60\n"
     ]
    }
   ],
   "source": [
    "grouped = data.groupby( \"region\")\n",
    "grouped_bmi = grouped[\"bmi\"].describe()\n",
    "print(grouped_bmi)"
   ]
  },
  {
   "cell_type": "markdown",
   "metadata": {},
   "source": [
    "This summary gives a good first snapshot of this data. SE has the highest mean by over 4 with higher values at each level. Also we can see that the north overall is a bit more consistent with each other and the south is a bit higher. We can look at the distributions in more detail with histograms."
   ]
  },
  {
   "cell_type": "code",
   "execution_count": 33,
   "metadata": {},
   "outputs": [
    {
     "name": "stdout",
     "output_type": "stream",
     "text": [
      "['southwest' 'southeast' 'northwest' 'northeast']\n"
     ]
    }
   ],
   "source": [
    "labels = pd.unique(data[\"region\"].values)\n",
    "print(labels)"
   ]
  },
  {
   "cell_type": "code",
   "execution_count": 34,
   "metadata": {},
   "outputs": [
    {
     "data": {
      "image/png": "[encoded data removed]",
      "text/plain": [
       "<Figure size 720x432 with 4 Axes>"
      ]
     },
     "metadata": {
      "needs_background": "light"
     },
     "output_type": "display_data"
    }
   ],
   "source": [
    "figure = plt.figure(figsize=(10, 6))\n",
    "figure.suptitle(\"Distributions of BMI by Region\")\n",
    "\n",
    "for i in enumerate( labels):\n",
    "    axes = figure.add_subplot(2, 3, i[0] + 1)\n",
    "    subdata = grouped[\"bmi\"].get_group(i[1]).values\n",
    "    axes.hist(subdata, alpha=0.75, color=\"DimGray\")\n",
    "    axes.set_title(labels[i[0]])\n",
    "    axes.set_ylim((0,80))\n",
    "    axes.set_xlim((10,60))\n",
    "    if (i[0] > 2):\n",
    "        axes.set_xlabel(\"BMI\")\n",
    "    if (i[0] % 3 == 0):\n",
    "        axes.set_ylabel(\"Counts\")\n",
    "\n",
    "plt.show()\n",
    "plt.close()"
   ]
  },
  {
   "cell_type": "markdown",
   "metadata": {},
   "source": [
    "These distributions show the story of region's BMI a bit further. This shows there is a large amount of people right around 30 BMI in the SQ and a higher concentration in the SE riight above 30. The NW and NW have very few above 40 while the SE has a large amount above 40. The SW has about the same population above 40 as the NE but their concentration is larger around 30 while the NE has a good amount more ini the mid 20s. "
   ]
  },
  {
   "cell_type": "markdown",
   "metadata": {},
   "source": [
    "### BMI and Charges\n",
    "\n",
    "This is the first set of two numerical variables that has a important story to tell. I feel that the higher BMI would lead to a larger amount of charges as higher BMI can lead to more health issues. \n",
    "\n",
    "We can look at the correlation between the two variables as well as their scatterplot."
   ]
  },
  {
   "cell_type": "code",
   "execution_count": 35,
   "metadata": {},
   "outputs": [
    {
     "name": "stdout",
     "output_type": "stream",
     "text": [
      "Correlation coefficients:\n",
      "r   = 0.19834096883362887\n",
      "rho = 0.11939590358331145\n"
     ]
    }
   ],
   "source": [
    "correlation(data, \"bmi\", \"charges\")"
   ]
  },
  {
   "cell_type": "markdown",
   "metadata": {},
   "source": [
    "The correlation between the two of these variables is surprisingly low. My hunch is that there can be many other expensive health issues that have no relationship to BMI which would drive the charges to be higher. Also, BMI may have a more long term effect, so younger people with higher BMI may not have had any health issues yet. "
   ]
  },
  {
   "cell_type": "code",
   "execution_count": 36,
   "metadata": {},
   "outputs": [
    {
     "data": {
      "image/png": "[encoded data removed]",
      "text/plain": [
       "<Figure size 720x432 with 1 Axes>"
      ]
     },
     "metadata": {
      "needs_background": "light"
     },
     "output_type": "display_data"
    }
   ],
   "source": [
    "lowess_scatter(data, \"bmi\", \"charges\", jitter=0.01, skip_lowess=False)"
   ]
  },
  {
   "cell_type": "markdown",
   "metadata": {},
   "source": [
    "Again, we see little correlation as there are many with higher BMI that have low charges. We do see some grouping of charges increasing as BMI increases as well but it forms more of a cone shape. The lower BMIs are showing a smaller range of charge values but most charges regardless of BMI lie under the 20000 mark."
   ]
  },
  {
   "cell_type": "markdown",
   "metadata": {},
   "source": [
    "### Children and Charges\n",
    "\n",
    "I could imagine that the more children one person has the higher their insurance charges are as they need to support more people with their insurance. Additionally, pregnancy is expensive so having more children would lead to those pregnancy insurance charges. Children is a numerical variable but as it only has six possible values from this data set we can treat it as a categorical variable. Charges is numerical."
   ]
  },
  {
   "cell_type": "code",
   "execution_count": 37,
   "metadata": {},
   "outputs": [
    {
     "name": "stdout",
     "output_type": "stream",
     "text": [
      "          count     mean      std     min     25%      50%      75%      max\n",
      "children                                                                    \n",
      "0        574.00 12365.98 12023.29 1121.87 2734.42  9856.95 14440.12 63770.43\n",
      "1        324.00 12731.17 11823.63 1711.03 4791.64  8483.87 15632.05 58571.07\n",
      "2        240.00 15073.56 12891.37 2304.00 6284.94  9264.98 20379.28 49577.66\n",
      "3        157.00 15355.32 12330.87 3443.06 6652.53 10600.55 19199.94 60021.40\n",
      "4         25.00 13850.66  9139.22 4504.66 7512.27 11033.66 17128.43 40182.25\n",
      "5         18.00  8786.04  3808.44 4687.80 5874.97  8589.57 10019.94 19023.26\n"
     ]
    }
   ],
   "source": [
    "grouped = data.groupby( \"children\")\n",
    "grouped_charges = grouped[\"charges\"].describe()\n",
    "print(grouped_charges)"
   ]
  },
  {
   "cell_type": "markdown",
   "metadata": {},
   "source": [
    "The summary statistics above is for charges grouped by the number of children. We can see that the mean goes up a bit from 0 and 1 to 2 and 3, however, it drops off a bit as we increase to 4 and then further up to 5. The number of people with 4 and 5 children is pretty low so those values may not have enough data points to get a more true value. However, the median for 3 and 4 is higher than the others with 4 being the highest median. This could be influenced by the many outliers that people in the 0 and 1 children groups have.\n",
    "\n",
    "Let's view these distributions with box plots."
   ]
  },
  {
   "cell_type": "code",
   "execution_count": 38,
   "metadata": {},
   "outputs": [
    {
     "data": {
      "image/png": "[encoded data removed]",
      "text/plain": [
       "<Figure size 720x432 with 1 Axes>"
      ]
     },
     "metadata": {
      "needs_background": "light"
     },
     "output_type": "display_data"
    }
   ],
   "source": [
    "figure = plt.figure(figsize=(10, 6))\n",
    "\n",
    "axes = figure.add_subplot(1, 1, 1)\n",
    "\n",
    "labels = pd.unique(data[\"children\"].values)\n",
    "labels.sort()\n",
    "grouped_data = [grouped[ \"charges\"].get_group( k) for k in labels]\n",
    "patch = axes.boxplot( grouped_data, labels=labels, patch_artist=False, zorder=1, vert=True)\n",
    "\n",
    "axes.set_xlabel(\"Children\")\n",
    "axes.set_ylabel(\"Charges\")\n",
    "axes.set_title(\"Charges by Distribution of Children\")\n",
    "\n",
    "plt.show()\n",
    "plt.close()"
   ]
  },
  {
   "cell_type": "markdown",
   "metadata": {},
   "source": [
    "With these box plots we can see that there are many more outliers for the 0-3 values. This may be due to the volume of data points for these groups. With that, their means are pulled up much higher. This does show that the IQR for 0 and 1 child are much lower than 2, 3 and 4. 0 and 1 still have many outliers pulling up their means well above their medians."
   ]
  },
  {
   "cell_type": "markdown",
   "metadata": {},
   "source": [
    "### Smoker and Charges\n",
    "\n",
    "With these comparisons against I would like to explore more of the variables against charges. Smoker is a good next step here as I would expect smokers to have higher charges than non-smokers. Smoker is a binary categorical variable while charges is numerical so we can look at the summary statistics split between smokers and non-smokers."
   ]
  },
  {
   "cell_type": "code",
   "execution_count": 39,
   "metadata": {},
   "outputs": [
    {
     "name": "stdout",
     "output_type": "stream",
     "text": [
      "         count     mean      std      min      25%      50%      75%      max\n",
      "smoker                                                                       \n",
      "no     1064.00  8434.27  5993.78  1121.87  3986.44  7345.41 11362.89 36910.61\n",
      "yes     274.00 32050.23 11541.55 12829.46 20826.24 34456.35 41019.21 63770.43\n"
     ]
    }
   ],
   "source": [
    "grouped = data.groupby( \"smoker\")\n",
    "grouped_charges = grouped[\"charges\"].describe()\n",
    "print(grouped_charges)"
   ]
  },
  {
   "cell_type": "markdown",
   "metadata": {},
   "source": [
    "It is pretty clear the differences in the summary statistics. Insurance charges are much higher for smokers across the board with a minimum over 10000 above non-smokers. Let's compare these with horizontal box plots."
   ]
  },
  {
   "cell_type": "code",
   "execution_count": 40,
   "metadata": {},
   "outputs": [
    {
     "data": {
      "image/png": "[encoded data removed]",
      "text/plain": [
       "<Figure size 720x432 with 1 Axes>"
      ]
     },
     "metadata": {
      "needs_background": "light"
     },
     "output_type": "display_data"
    }
   ],
   "source": [
    "figure = plt.figure(figsize=(10, 6))\n",
    "\n",
    "axes = figure.add_subplot(1, 1, 1)\n",
    "\n",
    "labels = pd.unique(data[\"smoker\"].values)\n",
    "grouped_data = [grouped[ \"charges\"].get_group( k) for k in labels]\n",
    "patch = axes.boxplot( grouped_data, labels=labels, patch_artist=False, zorder=1, vert=False)\n",
    "\n",
    "axes.set_xlabel(\"Charges\")\n",
    "axes.set_ylabel(\"Smoker\")\n",
    "axes.set_title(\"Charges by Distribution of Smoker\")\n",
    "\n",
    "plt.show()\n",
    "plt.close()"
   ]
  },
  {
   "cell_type": "markdown",
   "metadata": {},
   "source": [
    "Interestingly, all of the outliers for the non-smoker distribution lie within the IQR of the smoker distribution. The minimum lies above the 75%. The difference is clear here. If you are a smoker insurance charges are higher. "
   ]
  },
  {
   "cell_type": "markdown",
   "metadata": {},
   "source": [
    "### Sex and Charges\n",
    "\n",
    "I had thought earlier that sex may have an effect on charges based on the healthcare needs for women versus men. This will be comparable to the comparison of smoker and charges because sex is a binary categorical variable. "
   ]
  },
  {
   "cell_type": "code",
   "execution_count": 41,
   "metadata": {},
   "outputs": [
    {
     "name": "stdout",
     "output_type": "stream",
     "text": [
      "        count     mean      std     min     25%     50%      75%      max\n",
      "sex                                                                      \n",
      "female 662.00 12569.58 11128.70 1607.51 4885.16 9412.96 14454.69 63770.43\n",
      "male   676.00 13956.75 12971.03 1121.87 4619.13 9369.62 18989.59 62592.87\n"
     ]
    }
   ],
   "source": [
    "grouped = data.groupby( \"sex\")\n",
    "grouped_charges = grouped[\"charges\"].describe()\n",
    "print(grouped_charges)"
   ]
  },
  {
   "cell_type": "markdown",
   "metadata": {},
   "source": [
    "The summary statistics above show a pretty consistent and similar distribution with the mean for males being a bit higher. Interestingly the IQR for males extends much higher as well."
   ]
  },
  {
   "cell_type": "code",
   "execution_count": 42,
   "metadata": {},
   "outputs": [
    {
     "data": {
      "image/png": "[encoded data removed]",
      "text/plain": [
       "<Figure size 720x432 with 1 Axes>"
      ]
     },
     "metadata": {
      "needs_background": "light"
     },
     "output_type": "display_data"
    }
   ],
   "source": [
    "figure = plt.figure(figsize=(10, 6))\n",
    "\n",
    "axes = figure.add_subplot(1, 1, 1)\n",
    "\n",
    "labels = pd.unique(data[\"sex\"].values)\n",
    "grouped_data = [grouped[ \"charges\"].get_group( k) for k in labels]\n",
    "patch = axes.boxplot( grouped_data, labels=labels, patch_artist=False, zorder=1, vert=False)\n",
    "\n",
    "axes.set_xlabel(\"Charges\")\n",
    "axes.set_ylabel(\"Sex\")\n",
    "axes.set_title(\"Charges by Distribution of Sex\")\n",
    "\n",
    "plt.show()\n",
    "plt.close()"
   ]
  },
  {
   "cell_type": "markdown",
   "metadata": {},
   "source": [
    "There is a higher concentration of females right above the median while there is a larger spread for males above the median. With that, the 75th percentile for males is well above that of the female distribution. However, they have a similar amount of outliers in the 50000s and above."
   ]
  },
  {
   "cell_type": "markdown",
   "metadata": {},
   "source": [
    "### Age and BMI\n",
    "\n",
    "Like BMI and region, I am interested to see how age may have an effect on BMI. Do people gain weight as they are older or is there a cultural difference between age groups with BMI? As both of these are numerical we can compare them with their correlation and scatterplots."
   ]
  },
  {
   "cell_type": "code",
   "execution_count": 43,
   "metadata": {},
   "outputs": [
    {
     "name": "stdout",
     "output_type": "stream",
     "text": [
      "Correlation coefficients:\n",
      "r   = 0.10927188154853515\n",
      "rho = 0.10773603532023862\n"
     ]
    }
   ],
   "source": [
    "correlation(data, \"age\", \"bmi\")"
   ]
  },
  {
   "cell_type": "markdown",
   "metadata": {},
   "source": [
    "The statistics above show barely any correlation between age and bmi. Let's take a look at the scatterplot to see how this correlation looks."
   ]
  },
  {
   "cell_type": "code",
   "execution_count": 44,
   "metadata": {},
   "outputs": [
    {
     "data": {
      "image/png": "[encoded data removed]",
      "text/plain": [
       "<Figure size 720x432 with 1 Axes>"
      ]
     },
     "metadata": {
      "needs_background": "light"
     },
     "output_type": "display_data"
    }
   ],
   "source": [
    "lowess_scatter(data, \"age\", \"bmi\", jitter=0.01, skip_lowess=True)"
   ]
  },
  {
   "cell_type": "markdown",
   "metadata": {},
   "source": [
    "Since the age is specific to the year and doesn't get more specific, I added a bit of jitter to the data. The plot shows a very slight increase however it is pretty flat."
   ]
  },
  {
   "cell_type": "markdown",
   "metadata": {},
   "source": [
    "### Children and Region\n",
    "\n",
    "I have not explored other aspects of how region may be affecting other variables. Region could have an effect on many of these variables due to cultural differences.\n",
    "\n",
    "As they are both being treated as categorical variables we can look at the counts, joint distributions, and the conditional probabilities."
   ]
  },
  {
   "cell_type": "code",
   "execution_count": 45,
   "metadata": {},
   "outputs": [
    {
     "name": "stdout",
     "output_type": "stream",
     "text": [
      "children     0   1   2   3  4  5\n",
      "region                          \n",
      "northeast  147  77  51  39  7  3\n",
      "northwest  132  74  66  46  6  1\n",
      "southeast  157  95  66  35  5  6\n",
      "southwest  138  78  57  37  7  8\n"
     ]
    }
   ],
   "source": [
    "print( pd.crosstab( data[ \"region\"], data[ \"children\"]))"
   ]
  },
  {
   "cell_type": "markdown",
   "metadata": {},
   "source": [
    "Looking at the above, they look pretty even across the board, but a few more people have 5 children in the south regions. This will be more clear with the distributions."
   ]
  },
  {
   "cell_type": "code",
   "execution_count": 46,
   "metadata": {},
   "outputs": [
    {
     "name": "stdout",
     "output_type": "stream",
     "text": [
      "children     0    1    2    3    4    5\n",
      "region                                 \n",
      "northeast 0.11 0.06 0.04 0.03 0.01 0.00\n",
      "northwest 0.10 0.06 0.05 0.03 0.00 0.00\n",
      "southeast 0.12 0.07 0.05 0.03 0.00 0.00\n",
      "southwest 0.10 0.06 0.04 0.03 0.01 0.01\n"
     ]
    }
   ],
   "source": [
    "result = pd.crosstab( data[ \"region\"], data[ \"children\"]).apply(lambda r: r/len(data), axis=1)\n",
    "print( result)"
   ]
  },
  {
   "cell_type": "markdown",
   "metadata": {},
   "source": [
    "Since certain categories have very small counts, the joint distribution is not as helpful as the conditional probability may be."
   ]
  },
  {
   "cell_type": "code",
   "execution_count": 47,
   "metadata": {},
   "outputs": [
    {
     "name": "stdout",
     "output_type": "stream",
     "text": [
      "children     0    1    2    3    4    5\n",
      "region                                 \n",
      "northeast 0.45 0.24 0.16 0.12 0.02 0.01\n",
      "northwest 0.41 0.23 0.20 0.14 0.02 0.00\n",
      "southeast 0.43 0.26 0.18 0.10 0.01 0.02\n",
      "southwest 0.42 0.24 0.18 0.11 0.02 0.02\n"
     ]
    }
   ],
   "source": [
    "frequencies = pd.crosstab( data[\"region\"], data[\"children\"]).apply(lambda r: r/r.sum(), axis=1)\n",
    "print(frequencies)"
   ]
  },
  {
   "cell_type": "markdown",
   "metadata": {},
   "source": [
    "Given the region we can see the probability of the amount of children. We see that there is not much difference between these distributions. Let's swap them."
   ]
  },
  {
   "cell_type": "code",
   "execution_count": 48,
   "metadata": {},
   "outputs": [
    {
     "name": "stdout",
     "output_type": "stream",
     "text": [
      "region    northeast  northwest  southeast  southwest\n",
      "children                                            \n",
      "0              0.26       0.23       0.27       0.24\n",
      "1              0.24       0.23       0.29       0.24\n",
      "2              0.21       0.28       0.28       0.24\n",
      "3              0.25       0.29       0.22       0.24\n",
      "4              0.28       0.24       0.20       0.28\n",
      "5              0.17       0.06       0.33       0.44\n"
     ]
    }
   ],
   "source": [
    "frequencies = pd.crosstab( data[\"children\"], data[\"region\"]).apply(lambda r: r/r.sum(), axis=1)\n",
    "print(frequencies)"
   ]
  },
  {
   "cell_type": "markdown",
   "metadata": {},
   "source": [
    "Given the amount of children, we can have a better idea of the differences. Given 0 through 4 children there is not much difference but given 5 there is a much greater chance for it to be a south region."
   ]
  },
  {
   "cell_type": "markdown",
   "metadata": {},
   "source": [
    "### Children and Age\n",
    "Let's finish off the comparison with children by seeing what the relationship between children and age is. I assume that the older the person the more children one has.\n",
    "\n",
    "Children is being considered a categorical variable while age is numerical."
   ]
  },
  {
   "cell_type": "code",
   "execution_count": 49,
   "metadata": {},
   "outputs": [
    {
     "name": "stdout",
     "output_type": "stream",
     "text": [
      "          count  mean   std   min   25%   50%   75%   max\n",
      "children                                                 \n",
      "0        574.00 38.44 16.44 18.00 22.00 36.00 55.00 64.00\n",
      "1        324.00 39.45 12.07 18.00 30.00 40.00 49.00 64.00\n",
      "2        240.00 39.45 11.59 18.00 30.00 40.00 48.00 64.00\n",
      "3        157.00 41.57 12.21 18.00 31.00 41.00 52.00 64.00\n",
      "4         25.00 39.00 12.14 18.00 29.00 39.00 48.00 61.00\n",
      "5         18.00 35.61 10.12 19.00 28.75 39.00 42.50 52.00\n"
     ]
    }
   ],
   "source": [
    "grouped = data.groupby( \"children\")\n",
    "grouped_age = grouped[\"age\"].describe()\n",
    "print(grouped_age)"
   ]
  },
  {
   "cell_type": "markdown",
   "metadata": {},
   "source": [
    "These distributions look pretty equal to me. There is some fluctuation for the max and some small other differences with the 75 percentile and max but for the most part they are all similar. 5 children is a bit different with the max but that is due to a very small data size."
   ]
  },
  {
   "cell_type": "code",
   "execution_count": 50,
   "metadata": {},
   "outputs": [
    {
     "data": {
      "image/png": "[encoded data removed]",
      "text/plain": [
       "<Figure size 720x432 with 1 Axes>"
      ]
     },
     "metadata": {
      "needs_background": "light"
     },
     "output_type": "display_data"
    }
   ],
   "source": [
    "figure = plt.figure(figsize=(10, 6))\n",
    "\n",
    "axes = figure.add_subplot(1, 1, 1)\n",
    "\n",
    "labels = pd.unique(data[\"children\"].values)\n",
    "labels.sort()\n",
    "grouped_data = [grouped[ \"age\"].get_group( k) for k in labels]\n",
    "patch = axes.boxplot( grouped_data, labels=labels, patch_artist=False, zorder=1, vert=True)\n",
    "\n",
    "axes.set_xlabel(\"Children\")\n",
    "axes.set_ylabel(\"Age\")\n",
    "axes.set_title(\"Age by Distribution of Children\")\n",
    "\n",
    "plt.show()\n",
    "plt.close()"
   ]
  },
  {
   "cell_type": "markdown",
   "metadata": {},
   "source": [
    "We see the consistent distribution here with a smaller median for people with 0 children which makes sense as younger people usually have 0 children and there are many more 18 and 19 year olds than any other age."
   ]
  }
 ],
 "metadata": {
  "kernelspec": {
   "display_name": "Python (en685648)",
   "language": "python",
   "name": "en685648"
  },
  "language_info": {
   "codemirror_mode": {
    "name": "ipython",
    "version": 3
   },
   "file_extension": ".py",
   "mimetype": "text/x-python",
   "name": "python",
   "nbconvert_exporter": "python",
   "pygments_lexer": "ipython3",
   "version": "3.7.3"
  },
  "toc": {
   "colors": {
    "hover_highlight": "#DAA520",
    "navigate_num": "#000000",
    "navigate_text": "#333333",
    "running_highlight": "#FF0000",
    "selected_highlight": "#FFD700",
    "sidebar_border": "#EEEEEE",
    "wrapper_background": "#FFFFFF"
   },
   "moveMenuLeft": true,
   "nav_menu": {
    "height": "156px",
    "width": "252px"
   },
   "navigate_menu": true,
   "number_sections": true,
   "sideBar": true,
   "threshold": 4,
   "toc_cell": false,
   "toc_section_display": "block",
   "toc_window_display": false,
   "widenNotebook": false
  }
 },
 "nbformat": 4,
 "nbformat_minor": 1
}
