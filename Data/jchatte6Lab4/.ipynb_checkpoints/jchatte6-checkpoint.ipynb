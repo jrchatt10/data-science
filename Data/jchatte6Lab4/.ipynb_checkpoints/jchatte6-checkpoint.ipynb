{
 "cells": [
  {
   "cell_type": "markdown",
   "metadata": {},
   "source": [
    "# Lab 4 - Data"
   ]
  },
  {
   "cell_type": "code",
   "execution_count": 1,
   "metadata": {},
   "outputs": [
    {
     "name": "stderr",
     "output_type": "stream",
     "text": [
      "UsageError: Line magic function `%` not found.\n"
     ]
    }
   ],
   "source": [
    "% matplotlib inline"
   ]
  },
  {
   "cell_type": "markdown",
   "metadata": {},
   "source": [
    "The special command above will make all the `matplotlib` images appear in the notebook."
   ]
  },
  {
   "cell_type": "markdown",
   "metadata": {},
   "source": [
    "## Directions\n",
    "\n",
    "**Failure to follow the directions will result in a \"0\"**\n",
    "\n",
    "The due dates for each are indicated in the Syllabus and the course calendar. If anything is unclear, please email EN605.648@gmail.com the official email for the course or ask questions in the Lab discussion area on Blackboard.\n",
    "\n",
    "The Labs also present technical material that augments the lectures and course notes.  You should read through the entire lab at the start of each module.\n",
    "\n",
    "Please make sure you understand all the instructions."
   ]
  },
  {
   "cell_type": "markdown",
   "metadata": {},
   "source": [
    "### General Instructions\n",
    "\n",
    "1.  You will be submitting your assignment to Blackboard.\n",
    "    \n",
    "This assignment has many files. You should include in your zip file:\n",
    "\n",
    "    1. [jhed_id].ipynb - this file and your queries/reporting code.\n",
    "    2. hurricanes.py - your preprocessing and data writing file.\n",
    "    3. hurricanes.html - the local copy of the Wikipedia page.\n",
    "    4. hurricanes.db - the SQLite database you create.\n",
    "    5. hurricans.sql - the DDL commands to create your database.\n",
    "    \n",
    "Put all of these files in a directory/folder named [jhed_id] and zip it (only use Zip compression, nothing else). Submit your zip file to Blackboard.\n",
    "    \n",
    "2. Data Science is as much about what you write (communicating) as the code you execute (researching). In many places, you will be required to execute code and discuss both the purpose and the result. Additionally, Data Science is about reproducibility and transparency. This includes good communication with your team and possibly with yourself. Therefore, you must show **all** work.\n",
    "\n",
    "3. Avail yourself of the Markdown/Codecell nature of the notebook. If you don't know about Markdown, look it up. Your notebooks should not look like ransom notes. Don't make everything bold. Clearly indicate what question you are answering.\n",
    "\n",
    "4. Submit a cleanly executed notebook. The first code cell should say `In [1]` and each successive code cell should increase by 1 throughout the notebook."
   ]
  },
  {
   "cell_type": "markdown",
   "metadata": {},
   "source": [
    "## Individual Submission\n",
    "\n",
    "## Getting and Storing Data\n",
    "\n",
    "This Lab is about acquiring, cleaning and storing data (commonly known as \"wrangling\") as well as doing a little bit of analysis.\n",
    "\n",
    "### Basic Outline\n",
    "\n",
    "1. Use `curl` or `wget` obtain a local copy of the following web page: Atlantic Hurricane Season ( https://en.wikipedia.org/wiki/Atlantic_hurricane_season ). You can also just visit the page and save the HTML. **include this in your submission as `hurricanes.html`**.  This is important. In Spring 2016, the page was edited during the module and different people got different answers at different times.  You only need to be correct with respect to your `hurricanes.html` file.\n",
    "2. create the SQLite3 database and initialize the tables. **include these files as `hurricanes.db` and `hurricanes.sql`**.  We are using SQLite3 not because it is the best database in the world but because its database files are shareable.\n",
    "3. use Beautiful Soup 4 and Python, parse the HTML file into a usable dataset. Write the data to the database. **this code should be in a file `hurricanes.py` and included in your submission** Your code should have copious comments.\n",
    "4. Write this data set to a SQLite3 database called `hurricanes.db` **include this in your submission**.\n",
    "5. Run the requested queries against the data set. **see below** The results should be **nicely formatted**.\n",
    "\n",
    "Although Wikipedia has an API, I do not what you to use it for this assignment."
   ]
  },
  {
   "cell_type": "markdown",
   "metadata": {},
   "source": [
    "## Learning Objectives\n",
    "\n",
    "This assignment has several learning objectives:\n",
    "\n",
    "* create a database and tables in one database type, SQLite\n",
    "* use BeautifulSoup to parse a web page.\n",
    "* use Regular Expressions to parse text to extract numbers.\n",
    "* write data to a database using SQL.\n",
    "* read data from a database using SQL.\n",
    "\n",
    "You can reference the Module links to various tutorials on these topics."
   ]
  },
  {
   "cell_type": "markdown",
   "metadata": {},
   "source": [
    "### Details\n",
    "\n",
    "The data is contained in many separate HTML tables. You will need to look at the raw HTML to determine how everything is laid out. Make sure you decompose the problem into nice, neat, focused functions. You should have a function that processes a table, one that processes a row, one that processes something that may be numeric.\n",
    "\n",
    "You only need to get the data from the tables starting in the 1850s but note that not all years have the same data. You only need to save the following columns. The name is parentheses is the name the column should have in the database table.\n",
    "\n",
    "- Year (`year`)\n",
    "- Number of tropical storms (`tropical_storms`)\n",
    "- Number of hurricanes (`hurricanes`)\n",
    "- Number of Major Hurricanes (`major_hurricanes`)\n",
    "- Deaths (`deaths`)\n",
    "- Damage (`damage`)\n",
    "- Notes (`notes`)\n",
    "\n",
    "Note that \"Damage\" doesn't start until 1900s and \"Notes\" was added in 1880s. \"Strongest Storm\" should be added to the Notes column (even in years that didn't have Notes) as should \"Retired Storms\". The name of the database table should be `atlantic_hurricanes`. The name of the table file (SQLite3 uses a file) should be `hurricanes.db` (who knows...you might need to add Pacific storms someday).\n",
    "\n",
    "There are a number of parsing problems which will most likely require regular expressions. First, the Deaths column has numbers that include commas and entries that are not numbers (Unknown and None). How should you code Unknown and None so that answers are not misleading but queries are still fairly straightforward to write?\n",
    "\n",
    "Similarly, Damages has numbers with commas, currency signs and different amount words (millions, billions). How will you normalize all of these so that a query can compare them? You may need regular expressions.\n",
    "\n",
    "Additionally, the way that Tropical Storms are accounted for seems to change mysteriously. Looking over the data, it's not immediately apparent when the interpretation should change. 1850s, 1860s definitely but 1870s? Not sure. It could just be a coincidence that there were never more hurricanes than tropical storms which seems to be the norm but see, for example, 1975. Welcome to Data Science!\n",
    "\n",
    "You should put your parsing code in `hurricanes.py`. None of it should be in this file. Imagine this file is going to be the report you give to your boss."
   ]
  },
  {
   "cell_type": "markdown",
   "metadata": {},
   "source": [
    "## Documentation\n",
    "\n",
    "Any time you run into a problem where you have to decide what to do--how to solve the problem or treat the values--document it here."
   ]
  },
  {
   "cell_type": "markdown",
   "metadata": {},
   "source": [
    " - How do I parse through the HTML to pull out only the specifics that I need? I am going to use soup.find_all and pull out the tables with a class of wikitable sortable jquery-tablesorter.\n",
    " - Another problem then is I need to ignore the last table since it a table for this dataset. The del command with -1 as the entry.\n",
    " - How do I navigate through the object?\n",
    " - How do I specifically pull out the text portion of a note?\n",
    " - The tables change for certain years so I have to navigate through them differently depending on the year. How do I go about doing that?\n",
    " \n",
    " - I need to now iterate through the arrays I've obtained and insert them into the right columns as rows in the database\n",
    " \n",
    " **Other major problems to still resolve**\n",
    " - Parse notes into something readible\n",
    " - Handle values other than ints in a way that is not just the text that was spit out"
   ]
  },
  {
   "cell_type": "markdown",
   "metadata": {},
   "source": [
    "## Hurricanes.db\n",
    "\n",
    "What is the *function* of `hurricanes.db` in this assignment?"
   ]
  },
  {
   "cell_type": "markdown",
   "metadata": {},
   "source": [
    "The hurricanes.db function is the file that holds that data that can be queried against."
   ]
  },
  {
   "cell_type": "markdown",
   "metadata": {},
   "source": [
    "### Queries\n",
    "\n",
    "When you are done, you must write and execute the following queries against your database. Those queries should be run from this notebook. Find the documentation for using SQLite3 from Python (the library is already included). You should never output raw Python data structures instead, you need to output well-formatted tables. You may need to look around for a library to help you or write your own formatting code. `Pandas` is one possibility. \n",
    "\n",
    "However, I want you to use raw SQL for your queries so if you use `Pandas` use it only for the formatting of query results (**don't load the data into Pandas and use Pandas/Python to query the data**). Imagine that you were somewhere you couldn't get Pandas...you'd need to know how to do this without it.\n",
    "\n",
    "**Write the most general query possible. Never assume that you are going to get only one result back (i.e, don't assume there won't be ties).** The query result should be in a nicely formatted table; don't show raw data structures to your boss or manager.\n",
    "\n",
    "Additionally, don't just run the query. Having gotten an answer, add a textual description of the result to the question. Data Science is not about running code; code is a means to an end. The end is the communication of results. We never just run code in this class."
   ]
  },
  {
   "cell_type": "markdown",
   "metadata": {},
   "source": [
    "**This section is incomplete as I ran up to the time to turn in the assignment without able to complete it**"
   ]
  },
  {
   "cell_type": "code",
   "execution_count": 2,
   "metadata": {},
   "outputs": [],
   "source": [
    "# imports\n",
    "import pandas as pd\n",
    "import sqlite3\n",
    "conn = sqlite3.connect(\"hurricanes.db\")"
   ]
  },
  {
   "cell_type": "markdown",
   "metadata": {},
   "source": [
    "1\\. For the 1920s, list the years by number of tropical storms, then hurricanes."
   ]
  },
  {
   "cell_type": "code",
   "execution_count": 3,
   "metadata": {},
   "outputs": [
    {
     "name": "stdout",
     "output_type": "stream",
     "text": [
      "   year\n",
      "0  1925\n",
      "1  1920\n",
      "2  1922\n",
      "3  1929\n",
      "4  1928\n",
      "5  1921\n",
      "6  1927\n",
      "7  1923\n",
      "8  1924\n",
      "9  1926\n",
      "   year\n",
      "0  1925\n",
      "1  1922\n",
      "2  1929\n",
      "3  1920\n",
      "4  1923\n",
      "5  1927\n",
      "6  1928\n",
      "7  1921\n",
      "8  1924\n",
      "9  1926\n"
     ]
    }
   ],
   "source": [
    "YearByTrop = pd.read_sql_query(\"select year from atlantic_hurricanes where year like \\\"192%\\\" order by tropical_storms;\", conn)\n",
    "print(YearByTrop)\n",
    "YearByHurr = pd.read_sql_query(\"select year from atlantic_hurricanes where year like \\\"192%\\\" order by hurricanes;\", conn)\n",
    "print(YearByHurr)"
   ]
  },
  {
   "cell_type": "markdown",
   "metadata": {},
   "source": [
    "2\\. What year had the most tropical storms?"
   ]
  },
  {
   "cell_type": "code",
   "execution_count": 4,
   "metadata": {},
   "outputs": [
    {
     "data": {
      "text/html": [
       "<div>\n",
       "<style scoped>\n",
       "    .dataframe tbody tr th:only-of-type {\n",
       "        vertical-align: middle;\n",
       "    }\n",
       "\n",
       "    .dataframe tbody tr th {\n",
       "        vertical-align: top;\n",
       "    }\n",
       "\n",
       "    .dataframe thead th {\n",
       "        text-align: right;\n",
       "    }\n",
       "</style>\n",
       "<table border=\"1\" class=\"dataframe\">\n",
       "  <thead>\n",
       "    <tr style=\"text-align: right;\">\n",
       "      <th></th>\n",
       "      <th>year</th>\n",
       "    </tr>\n",
       "  </thead>\n",
       "  <tbody>\n",
       "    <tr>\n",
       "      <th>0</th>\n",
       "      <td>2005</td>\n",
       "    </tr>\n",
       "  </tbody>\n",
       "</table>\n",
       "</div>"
      ],
      "text/plain": [
       "   year\n",
       "0  2005"
      ]
     },
     "execution_count": 4,
     "metadata": {},
     "output_type": "execute_result"
    }
   ],
   "source": [
    "MostTropStorms = pd.read_sql_query(\"select year from atlantic_hurricanes where tropical_storms = (select max(tropical_storms) from atlantic_hurricanes);\", conn)\n",
    "MostTropStorms"
   ]
  },
  {
   "cell_type": "markdown",
   "metadata": {},
   "source": [
    "3\\. What year had the most major hurricanes?"
   ]
  },
  {
   "cell_type": "code",
   "execution_count": 5,
   "metadata": {},
   "outputs": [
    {
     "data": {
      "text/html": [
       "<div>\n",
       "<style scoped>\n",
       "    .dataframe tbody tr th:only-of-type {\n",
       "        vertical-align: middle;\n",
       "    }\n",
       "\n",
       "    .dataframe tbody tr th {\n",
       "        vertical-align: top;\n",
       "    }\n",
       "\n",
       "    .dataframe thead th {\n",
       "        text-align: right;\n",
       "    }\n",
       "</style>\n",
       "<table border=\"1\" class=\"dataframe\">\n",
       "  <thead>\n",
       "    <tr style=\"text-align: right;\">\n",
       "      <th></th>\n",
       "      <th>year</th>\n",
       "    </tr>\n",
       "  </thead>\n",
       "  <tbody>\n",
       "    <tr>\n",
       "      <th>0</th>\n",
       "      <td>1961</td>\n",
       "    </tr>\n",
       "    <tr>\n",
       "      <th>1</th>\n",
       "      <td>2005</td>\n",
       "    </tr>\n",
       "  </tbody>\n",
       "</table>\n",
       "</div>"
      ],
      "text/plain": [
       "   year\n",
       "0  1961\n",
       "1  2005"
      ]
     },
     "execution_count": 5,
     "metadata": {},
     "output_type": "execute_result"
    }
   ],
   "source": [
    "MostMajorH = pd.read_sql_query(\"select year from atlantic_hurricanes where major_hurricanes  = (select max(major_hurricanes) from atlantic_hurricanes);\", conn)\n",
    "MostMajorH"
   ]
  },
  {
   "cell_type": "markdown",
   "metadata": {},
   "source": [
    "4\\. What year had the most deaths?"
   ]
  },
  {
   "cell_type": "markdown",
   "metadata": {
    "collapsed": true
   },
   "source": [
    "I was not able to work a way to convert deaths to an int"
   ]
  },
  {
   "cell_type": "markdown",
   "metadata": {},
   "source": [
    "5\\. What year had the most damage (not inflation adjusted)?"
   ]
  },
  {
   "cell_type": "markdown",
   "metadata": {
    "collapsed": true
   },
   "source": [
    "I was not able to work a way to convert damage to an int"
   ]
  },
  {
   "cell_type": "markdown",
   "metadata": {},
   "source": [
    "6\\. What year had the highest proportion of tropical storms turn into major hurricanes?"
   ]
  },
  {
   "cell_type": "code",
   "execution_count": null,
   "metadata": {},
   "outputs": [],
   "source": []
  },
  {
   "cell_type": "markdown",
   "metadata": {},
   "source": [
    "## Things to think about\n",
    "\n",
    "1. What is the granularity of this data? (Are the rows the most specific observation possible?)\n",
    "2. What if this data were contained in worksheets in an Excel file? Find a Python library or libraries that work with Excel spreadsheets.\n",
    "3. Each section links to details about each hurricane season. Review each Season's page and discuss strategies for extracting the information for every hurricane.\n",
    "4. Hurricane tracking maps were recently added. How would you get and store those images?\n",
    "5. Damages are not inflation adjusted. How would you go about *enriching* your data with inflation adjusted dollars? Where should this additional data be stored and how would it be used?"
   ]
  },
  {
   "cell_type": "markdown",
   "metadata": {},
   "source": [
    "*notes here*"
   ]
  }
 ],
 "metadata": {
  "kernelspec": {
   "display_name": "Python (en685648)",
   "language": "python",
   "name": "en685648"
  },
  "language_info": {
   "codemirror_mode": {
    "name": "ipython",
    "version": 3
   },
   "file_extension": ".py",
   "mimetype": "text/x-python",
   "name": "python",
   "nbconvert_exporter": "python",
   "pygments_lexer": "ipython3",
   "version": "3.7.3"
  },
  "toc": {
   "colors": {
    "hover_highlight": "#DAA520",
    "navigate_num": "#000000",
    "navigate_text": "#333333",
    "running_highlight": "#FF0000",
    "selected_highlight": "#FFD700",
    "sidebar_border": "#EEEEEE",
    "wrapper_background": "#FFFFFF"
   },
   "moveMenuLeft": true,
   "nav_menu": {
    "height": "210px",
    "width": "252px"
   },
   "navigate_menu": true,
   "number_sections": true,
   "sideBar": true,
   "threshold": 4,
   "toc_cell": false,
   "toc_section_display": "block",
   "toc_window_display": false,
   "widenNotebook": false
  }
 },
 "nbformat": 4,
 "nbformat_minor": 1
}
