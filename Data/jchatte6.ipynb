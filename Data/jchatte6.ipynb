{
 "cells": [
  {
   "cell_type": "markdown",
   "metadata": {},
   "source": [
    "# Module 13 Lab - Rule Based Machine Learning\n",
    "\n",
    "## Directions\n",
    "\n",
    "1. Show all work/steps/calculations. Generate a Markdown/code cells for each answer.\n",
    "2. You must submit your lab by the deadline to the Lab section of the Course Module where you downloaded this file from.\n",
    "3. You may use any core Python libraries or Numpy/Scipy. **Additionally, code from the Module notebooks and lectures is fair to use and modify.** You may also consult Stackoverflow (SO). If you use something from SO, please place a comment with the URL to document the code."
   ]
  },
  {
   "cell_type": "markdown",
   "metadata": {},
   "source": [
    "We talked about a wide variety of algorithms this module but we're going to concentrate on just two: Decision Trees and Random Forests.\n",
    "\n",
    "**Problem 1.**\n",
    "\n",
    "Using the insurance data set, construct a Decision Tree to estimate charges using the Scikit Learn Library [Decision Tree](https://scikit-learn.org/stable/modules/tree.html). You should use validation curves to estimate the best tree depth. With this tree depth, perform 3 rounds of 10 fold cross validation to get a sense of generalization error and learning curves to estimate bias/variance trade-off.\n",
    "\n",
    "Visualize the tree if possible. \n",
    "\n",
    "Compare with your linear regression results. Use Bayesian inference to test the difference of means."
   ]
  },
  {
   "cell_type": "code",
   "execution_count": 1,
   "metadata": {},
   "outputs": [],
   "source": [
    "import numpy as np\n",
    "import scipy.stats as stats\n",
    "import seaborn as sns\n",
    "import matplotlib.pyplot as plt\n",
    "import pandas as pd\n",
    "import random\n",
    "import patsy\n",
    "import sklearn\n",
    "import models\n",
    "import math\n",
    "from sklearn import tree\n",
    "from sklearn.ensemble import RandomForestRegressor\n",
    "from numpy.random import rand\n",
    "\n",
    "sns.set(style=\"whitegrid\")\n",
    "# load whatever other libraries you need including models.py"
   ]
  },
  {
   "cell_type": "code",
   "execution_count": 2,
   "metadata": {},
   "outputs": [],
   "source": [
    "import warnings\n",
    "warnings.filterwarnings('ignore')"
   ]
  },
  {
   "cell_type": "code",
   "execution_count": 3,
   "metadata": {},
   "outputs": [],
   "source": [
    "np.random.seed(98526091)"
   ]
  },
  {
   "cell_type": "code",
   "execution_count": 4,
   "metadata": {},
   "outputs": [],
   "source": [
    "#from the book\n",
    "def log( x):\n",
    "    return np.log(float( x))"
   ]
  },
  {
   "cell_type": "code",
   "execution_count": 5,
   "metadata": {},
   "outputs": [],
   "source": [
    "insurance = pd.read_csv(\"insurance.csv\")"
   ]
  },
  {
   "cell_type": "code",
   "execution_count": 6,
   "metadata": {},
   "outputs": [],
   "source": [
    "#transformations\n",
    "region = pd.get_dummies(insurance[\"region\"])\n",
    "insurance[\"NE\"] = region[\"northeast\"]\n",
    "insurance[\"NW\"] = region[\"northwest\"]\n",
    "insurance[\"SE\"] = region[\"southeast\"]\n",
    "insurance[\"log_charges\"] = insurance[\"charges\"].apply(log)"
   ]
  },
  {
   "cell_type": "code",
   "execution_count": 7,
   "metadata": {},
   "outputs": [],
   "source": [
    "insurance[\"sex\"] = insurance.sex.apply(lambda x: 1 if x == 'male' else 0)"
   ]
  },
  {
   "cell_type": "code",
   "execution_count": 8,
   "metadata": {},
   "outputs": [],
   "source": [
    "insurance[\"smoker\"] = insurance.smoker.apply(lambda x: 1 if x == 'yes' else 0)"
   ]
  },
  {
   "cell_type": "code",
   "execution_count": 9,
   "metadata": {},
   "outputs": [],
   "source": [
    "#taken from a combo in: https://stackoverflow.com/questions/26414913/normalize-columns-of-pandas-data-frame/48651066\n",
    "def normalize(df):\n",
    "    result = df.copy()\n",
    "    for feature_name in df.columns:\n",
    "        if feature_name == \"age\" or feature_name == \"bmi\" or feature_name == \"children\" or feature_name == \"log_charges\":\n",
    "            mean = df[feature_name].mean()\n",
    "            std = df[feature_name].std()\n",
    "            result[feature_name]=(df[feature_name]-mean)/std\n",
    "    return result"
   ]
  },
  {
   "cell_type": "code",
   "execution_count": 10,
   "metadata": {},
   "outputs": [],
   "source": [
    "#region and charges aren't needed anymore\n",
    "insurance = insurance.drop(columns=\"region\")\n",
    "insurance = insurance.drop(columns=\"charges\")"
   ]
  },
  {
   "cell_type": "code",
   "execution_count": 11,
   "metadata": {},
   "outputs": [],
   "source": [
    "#The data must be normalized to be able to properly compare the values\n",
    "insuranceNormal = normalize(insurance)"
   ]
  },
  {
   "cell_type": "markdown",
   "metadata": {},
   "source": [
    "### Decision Tree"
   ]
  },
  {
   "cell_type": "code",
   "execution_count": 12,
   "metadata": {},
   "outputs": [],
   "source": [
    "dtr = tree.DecisionTreeRegressor()"
   ]
  },
  {
   "cell_type": "code",
   "execution_count": 13,
   "metadata": {},
   "outputs": [
    {
     "data": {
      "text/plain": [
       "DecisionTreeRegressor(criterion='mse', max_depth=None, max_features=None,\n",
       "           max_leaf_nodes=None, min_impurity_decrease=0.0,\n",
       "           min_impurity_split=None, min_samples_leaf=1,\n",
       "           min_samples_split=2, min_weight_fraction_leaf=0.0,\n",
       "           presort=False, random_state=None, splitter='best')"
      ]
     },
     "execution_count": 13,
     "metadata": {},
     "output_type": "execute_result"
    }
   ],
   "source": [
    "dtr.fit(insuranceNormal.loc[:, insuranceNormal.columns != 'log_charges'],insuranceNormal['log_charges'])"
   ]
  },
  {
   "cell_type": "code",
   "execution_count": 14,
   "metadata": {},
   "outputs": [
    {
     "data": {
      "text/plain": [
       "array([ 0.69113536, -1.78935048, -0.75921661, ..., -1.85141424,\n",
       "       -1.62452158,  1.28463317])"
      ]
     },
     "execution_count": 14,
     "metadata": {},
     "output_type": "execute_result"
    }
   ],
   "source": [
    "dtr.predict(insuranceNormal.loc[:, insuranceNormal.columns != 'log_charges'])"
   ]
  },
  {
   "cell_type": "markdown",
   "metadata": {},
   "source": [
    "### Validation Curves"
   ]
  },
  {
   "cell_type": "code",
   "execution_count": 15,
   "metadata": {},
   "outputs": [],
   "source": [
    "def dtr_cross_validation(formula, builder, data, fold_count=10, repetitions=3):\n",
    "    indices = list(range(len( data)))\n",
    "    metrics = {\"train\": [], \"test\": []}\n",
    "    for _ in range(repetitions):\n",
    "        random.shuffle(indices)\n",
    "        folds = chunk(indices, fold_count)\n",
    "        for fold in folds:\n",
    "            test_data = data.iloc[fold]\n",
    "            train_indices = [idx not in fold for idx in indices]\n",
    "            train_data = data.iloc[train_indices]\n",
    "            # y, X for training data\n",
    "            y = train_data['log_charges']\n",
    "            X = train_data.loc[:, train_data.columns != 'log_charges']\n",
    "            model = builder.fit(X, y)\n",
    "            y_hat = model.predict(X)\n",
    "            training_r_squared = (stats.pearsonr(y, y_hat)[0])**2\n",
    "            metrics[\"train\"].append(training_r_squared)\n",
    "            # y, X for training data\n",
    "            y = test_data['log_charges']\n",
    "            X = test_data.loc[:, test_data.columns != 'log_charges']\n",
    "            y_hat = model.predict(X)\n",
    "            test_r_squared = (stats.pearsonr(y, y_hat)[0])**2\n",
    "            metrics[\"test\"].append(test_r_squared)\n",
    "    return metrics"
   ]
  },
  {
   "cell_type": "code",
   "execution_count": 16,
   "metadata": {},
   "outputs": [],
   "source": [
    "def chunk(xs, n):\n",
    "    k, m = divmod(len(xs), n)\n",
    "    return [xs[i * k + min(i, m):(i + 1) * k + min(i + 1, m)] for i in range(n)]"
   ]
  },
  {
   "cell_type": "code",
   "execution_count": 17,
   "metadata": {},
   "outputs": [],
   "source": [
    "formula = \"log_charges ~ age + bmi + children + smoker + NE + NW + SE\""
   ]
  },
  {
   "cell_type": "code",
   "execution_count": 18,
   "metadata": {},
   "outputs": [],
   "source": [
    "test_curve = []\n",
    "train_curve = []\n",
    "for k in range(1, 16):\n",
    "    builder = tree.DecisionTreeRegressor(max_depth=k)\n",
    "    results = dtr_cross_validation(formula, builder, insuranceNormal)\n",
    "    test_curve.append(stats.mstats.mquantiles(results['test'], [0.025, 0.5, 0.975]))\n",
    "    train_curve.append(stats.mstats.mquantiles(results['train'], [0.025, 0.5, 0.975]))"
   ]
  },
  {
   "cell_type": "code",
   "execution_count": 19,
   "metadata": {},
   "outputs": [
    {
     "data": {
      "image/png": "[encoded data removed]",
      "text/plain": [
       "<Figure size 720x432 with 1 Axes>"
      ]
     },
     "metadata": {
      "needs_background": "light"
     },
     "output_type": "display_data"
    }
   ],
   "source": [
    "xs = list(range(1, 16))\n",
    "figure = plt.figure(figsize=(10, 6)) # first element is width, second is height.\n",
    "axes = figure.add_subplot(1, 1, 1)\n",
    "\n",
    "test_lower, test_mid, test_upper = zip(*test_curve)\n",
    "train_lower, train_mid, train_upper = zip(*train_curve)\n",
    "\n",
    "axes.fill_between(xs, test_lower, test_upper, alpha=0.25, color=\"firebrick\", label=\"test\")\n",
    "axes.plot(xs, test_mid, color=\"firebrick\")\n",
    "\n",
    "axes.fill_between(xs, train_lower, train_upper, alpha=0.25, color=\"cornflowerblue\", label=\"train\")\n",
    "axes.plot(xs, train_mid, color=\"cornflowerblue\")\n",
    "\n",
    "axes.set_xticks(xs)\n",
    "axes.set_xticklabels([str(x) for x in xs])\n",
    "\n",
    "axes.legend()\n",
    "axes.set_title(\"Validation Curves for Decision Tree Depth\")\n",
    "axes.set_xlabel(\"k\")\n",
    "axes.set_ylabel(\"$R^2$\")\n",
    "\n",
    "plt.show()\n",
    "plt.close()"
   ]
  },
  {
   "cell_type": "markdown",
   "metadata": {},
   "source": [
    "We can see steady consistent growth between the training and test data sets until a depth of 9. After 9 they diverge and it is overfitting after. 9 would be the best depth for this model. "
   ]
  },
  {
   "cell_type": "markdown",
   "metadata": {},
   "source": [
    "### Cross Validation"
   ]
  },
  {
   "cell_type": "markdown",
   "metadata": {},
   "source": [
    "With the depth of 9 we will perform 3 rounds of 10 fold cross validation to get a sense of generalization error. "
   ]
  },
  {
   "cell_type": "code",
   "execution_count": 20,
   "metadata": {},
   "outputs": [],
   "source": [
    "builder = tree.DecisionTreeRegressor(max_depth = 9)\n",
    "dtr_results = dtr_cross_validation(formula, builder, insuranceNormal)"
   ]
  },
  {
   "cell_type": "code",
   "execution_count": 21,
   "metadata": {},
   "outputs": [
    {
     "name": "stdout",
     "output_type": "stream",
     "text": [
      "95% CI for R^2: [0.81893488 0.98103997]\n"
     ]
    }
   ],
   "source": [
    "print(r\"95% CI for R^2:\", stats.mstats.mquantiles(dtr_results['test'], [0.025, 0.975]))"
   ]
  },
  {
   "cell_type": "markdown",
   "metadata": {},
   "source": [
    "The 95% credible interval for the R^2 with a depth of 9 at this model is between .868 and .978. This interval looks to be in line with the spread shown for the max depth of 9 in the validation curve plot."
   ]
  },
  {
   "cell_type": "markdown",
   "metadata": {},
   "source": [
    "### Learning Curves"
   ]
  },
  {
   "cell_type": "code",
   "execution_count": 22,
   "metadata": {},
   "outputs": [],
   "source": [
    "from collections import defaultdict\n",
    "\n",
    "def data_collection():\n",
    "    result = dict()\n",
    "    result[ \"train\"] = defaultdict( list)\n",
    "    result[ \"test\"] = defaultdict( list)\n",
    "    return result"
   ]
  },
  {
   "cell_type": "code",
   "execution_count": 23,
   "metadata": {},
   "outputs": [],
   "source": [
    "def dtr_learning_curves(builder, formula, data, fold_count=10, repetitions=3, increment=1):\n",
    "    indices = list(range(len( data)))\n",
    "    results = data_collection()\n",
    "    for _ in range(repetitions):\n",
    "        random.shuffle(indices)\n",
    "        folds = chunk(indices, fold_count)\n",
    "        for fold in folds:\n",
    "            test_data = data.iloc[ fold]\n",
    "            train_indices = [idx for idx in indices if idx not in fold]\n",
    "            train_data = data.iloc[train_indices]\n",
    "            for i in list(range(increment, 100, increment)) + [100]: # ensures 100% is always picked.\n",
    "                # the indices are already shuffled so we only need to take ever increasing chunks\n",
    "                train_chunk_size = int( np.ceil((i/100)*len( train_indices)))\n",
    "                train_data_chunk = data.iloc[train_indices[0:train_chunk_size]]\n",
    "                # we calculate the model\n",
    "                y = train_data_chunk['log_charges']\n",
    "                X = train_data_chunk.loc[:, train_data_chunk.columns != 'log_charges']\n",
    "                model = builder.fit(X, y)\n",
    "                y_hat = model.predict(X)\n",
    "                training_r_squared = (stats.pearsonr(y, y_hat)[0])**2\n",
    "                results[\"train\"][i].append(training_r_squared)\n",
    "                \n",
    "                # y, X for test data\n",
    "                y = test_data['log_charges']\n",
    "                X = test_data.loc[:, test_data.columns != 'log_charges']\n",
    "                y_hat = model.predict(X)\n",
    "                test_r_squared = (stats.pearsonr(y, y_hat)[0])**2\n",
    "                results[\"test\"][i].append(test_r_squared)\n",
    "    # process results\n",
    "    statistics = {}\n",
    "    for k, v in results[\"train\"].items():\n",
    "        statistics[ k] = (np.mean(v), np.std(v))\n",
    "    results[\"train\"] = statistics\n",
    "    statistics = {}\n",
    "    for k, v in results[\"test\"].items():\n",
    "        statistics[ k] = (np.mean(v), np.std(v))\n",
    "    results[\"test\"] = statistics\n",
    "    return results"
   ]
  },
  {
   "cell_type": "code",
   "execution_count": 24,
   "metadata": {},
   "outputs": [],
   "source": [
    "result = dtr_learning_curves(tree.DecisionTreeRegressor(max_depth = 9), formula, insuranceNormal)"
   ]
  },
  {
   "cell_type": "code",
   "execution_count": 25,
   "metadata": {},
   "outputs": [],
   "source": [
    "def results_to_curves( curve, results):\n",
    "    all_statistics = results[ curve]\n",
    "    keys = list( all_statistics.keys())\n",
    "    keys.sort()\n",
    "    mean = []\n",
    "    upper = []\n",
    "    lower = []\n",
    "    for k in keys:\n",
    "        m, s = all_statistics[ k]\n",
    "        mean.append( m)\n",
    "        upper.append( m + 2 * s)\n",
    "        lower.append( m - 2 * s)\n",
    "    return keys, lower, mean, upper"
   ]
  },
  {
   "cell_type": "code",
   "execution_count": 26,
   "metadata": {},
   "outputs": [],
   "source": [
    "def plot_learning_curves( results, metric, zoom=False):\n",
    "    figure = plt.figure(figsize=(10,6))\n",
    "\n",
    "    axes = figure.add_subplot(1, 1, 1)\n",
    "\n",
    "    xs, train_lower, train_mean, train_upper = results_to_curves( \"train\", results)\n",
    "    _, test_lower, test_mean, test_upper = results_to_curves( \"test\", results)\n",
    "\n",
    "    axes.plot( xs, train_mean, color=\"steelblue\")\n",
    "    axes.fill_between( xs, train_upper, train_lower, color=\"steelblue\", alpha=0.25, label=\"train\")\n",
    "    axes.plot( xs, test_mean, color=\"firebrick\")\n",
    "    axes.fill_between( xs, test_upper, test_lower, color=\"firebrick\", alpha=0.25, label=\"test\")\n",
    "    axes.legend()\n",
    "    axes.set_xlabel( \"training set (%)\")\n",
    "    axes.set_ylabel( metric)\n",
    "    axes.set_title(\"Learning Curves\")\n",
    "\n",
    "    if zoom:\n",
    "        y_lower = int( 0.9 * np.amin([train_lower[-1], test_lower[-1]]))\n",
    "        y_upper = int( 1.1 * np.amax([train_upper[-1], test_upper[-1]]))\n",
    "        axes.set_ylim((y_lower, y_upper))\n",
    "\n",
    "    plt.show()\n",
    "    plt.close()"
   ]
  },
  {
   "cell_type": "code",
   "execution_count": 27,
   "metadata": {},
   "outputs": [
    {
     "data": {
      "image/png": "[encoded data removed]",
      "text/plain": [
       "<Figure size 720x432 with 1 Axes>"
      ]
     },
     "metadata": {
      "needs_background": "light"
     },
     "output_type": "display_data"
    }
   ],
   "source": [
    "plot_learning_curves(result, \"$R^2$\")"
   ]
  },
  {
   "cell_type": "markdown",
   "metadata": {},
   "source": [
    "Here we do see the test set getting closer to the training set as the size percentage progresses to 100%. This can suggest we are overfitting as the test is converging to the training. "
   ]
  },
  {
   "cell_type": "markdown",
   "metadata": {},
   "source": [
    "### Model Comparison"
   ]
  },
  {
   "cell_type": "markdown",
   "metadata": {},
   "source": [
    "We will compare how this model performs compared to that of the original linear regression model."
   ]
  },
  {
   "cell_type": "code",
   "execution_count": 28,
   "metadata": {},
   "outputs": [],
   "source": [
    "def bootstrap_sample( data, f, n=100):\n",
    "    result = []\n",
    "    m = len( data)\n",
    "    for _ in range( n):\n",
    "        sample = np.random.choice( data, len(data), replace=True)\n",
    "        r = f( sample)\n",
    "        result.append( r)\n",
    "    return np.array( result)"
   ]
  },
  {
   "cell_type": "code",
   "execution_count": 29,
   "metadata": {},
   "outputs": [],
   "source": [
    "def cross_validation(algorithm, formula, data, evaluate, fold_count=10, repetitions=3):\n",
    "    indices = list(range(len( data)))\n",
    "    metrics = []\n",
    "    for _ in range(repetitions):\n",
    "        random.shuffle(indices)\n",
    "        folds = chunk(indices, fold_count)\n",
    "        for fold in folds:\n",
    "            test_data = data.iloc[fold]\n",
    "            train_indices = [idx not in fold for idx in indices]\n",
    "            train_data = data.iloc[train_indices]\n",
    "            result = algorithm(formula, data=train_data)\n",
    "            model = result[\"model\"]\n",
    "            #y = test_data['log_charges']\n",
    "            #X = test_data.loc[:, test_data.columns != 'log_charges']\n",
    "            y, X = patsy.dmatrices(formula, test_data, return_type=\"matrix\")\n",
    "            results = models.summarize(formula, X, y, model)\n",
    "            metric = evaluate(results)\n",
    "            metrics.append(metric)\n",
    "    return metrics"
   ]
  },
  {
   "cell_type": "code",
   "execution_count": 30,
   "metadata": {},
   "outputs": [],
   "source": [
    "lr_result = cross_validation(models.linear_regression, formula, insuranceNormal, lambda r: (r[\"sigma\"], r[\"r_squared\"]))\n"
   ]
  },
  {
   "cell_type": "code",
   "execution_count": 31,
   "metadata": {},
   "outputs": [],
   "source": [
    "dtr_bootstrap = bootstrap_sample(dtr_results['test'], np.mean)\n",
    "lr_bootstrap = bootstrap_sample([r[1] for r in lr_result], np.mean)\n",
    "difference = dtr_bootstrap - lr_bootstrap"
   ]
  },
  {
   "cell_type": "code",
   "execution_count": 32,
   "metadata": {},
   "outputs": [
    {
     "data": {
      "image/png": "[encoded data removed]",
      "text/plain": [
       "<Figure size 1440x432 with 3 Axes>"
      ]
     },
     "metadata": {
      "needs_background": "light"
     },
     "output_type": "display_data"
    }
   ],
   "source": [
    "figure = plt.figure(figsize=(20, 6)) # first element is width, second is height.\n",
    "\n",
    "axes = figure.add_subplot(1, 3, 1)\n",
    "\n",
    "axes.hist(dtr_bootstrap, density=True)\n",
    "axes.set_ylabel( \"Density\")\n",
    "axes.set_xlabel( \"$R^2$\")\n",
    "axes.set_title( \"Posterior Distribution of DTR $R^2$\")\n",
    "\n",
    "axes = figure.add_subplot(1, 3, 2)\n",
    "\n",
    "axes.hist(lr_bootstrap, density=True)\n",
    "axes.set_ylabel( \"Density\")\n",
    "axes.set_xlabel( \"$R^2$\")\n",
    "axes.set_title( \"Posterior Distribution of Linear Regression $R^2$\")\n",
    "\n",
    "axes = figure.add_subplot(1, 3, 3)\n",
    "\n",
    "axes.hist( difference, density=True)\n",
    "axes.set_ylabel( \"Density\")\n",
    "axes.set_xlabel( \"Difference\")\n",
    "axes.set_title( \"Posterior Distribution of Difference in $R^2$\")\n",
    "\n",
    "plt.show()\n",
    "plt.close()"
   ]
  },
  {
   "cell_type": "code",
   "execution_count": 33,
   "metadata": {},
   "outputs": [
    {
     "name": "stdout",
     "output_type": "stream",
     "text": [
      "P(DTR > LR) 1.0\n"
     ]
    }
   ],
   "source": [
    "print(\"P(DTR > LR)\", np.mean(difference > 0))"
   ]
  },
  {
   "cell_type": "markdown",
   "metadata": {},
   "source": [
    "The decision tree R^2 is 100% likely to be greater than the linear regression R^2. The difference is around .14 to .19 larger for the decision tree model."
   ]
  },
  {
   "cell_type": "markdown",
   "metadata": {},
   "source": [
    "**Problem 2.**\n",
    "\n",
    "Now use the [Random Forest](https://scikit-learn.org/stable/modules/generated/sklearn.ensemble.RandomForestRegressor.html) on the insurance data set. Use validation curves to optimize the hyperparameters. Estimate generalization error on 3 rounds of 10 fold cross validation. Instead of learning curves, examine the importance of the features. How does this compare with your linear regression from before?"
   ]
  },
  {
   "cell_type": "code",
   "execution_count": 34,
   "metadata": {},
   "outputs": [],
   "source": [
    "rfr = RandomForestRegressor(max_depth=2, n_estimators=100, random_state=1563498164)"
   ]
  },
  {
   "cell_type": "code",
   "execution_count": 35,
   "metadata": {},
   "outputs": [
    {
     "data": {
      "text/plain": [
       "RandomForestRegressor(bootstrap=True, criterion='mse', max_depth=2,\n",
       "           max_features='auto', max_leaf_nodes=None,\n",
       "           min_impurity_decrease=0.0, min_impurity_split=None,\n",
       "           min_samples_leaf=1, min_samples_split=2,\n",
       "           min_weight_fraction_leaf=0.0, n_estimators=100, n_jobs=None,\n",
       "           oob_score=False, random_state=1563498164, verbose=0,\n",
       "           warm_start=False)"
      ]
     },
     "execution_count": 35,
     "metadata": {},
     "output_type": "execute_result"
    }
   ],
   "source": [
    "rfr.fit(insuranceNormal.loc[:, insuranceNormal.columns != 'log_charges'],insuranceNormal['log_charges'])"
   ]
  },
  {
   "cell_type": "code",
   "execution_count": 36,
   "metadata": {},
   "outputs": [
    {
     "data": {
      "text/plain": [
       "array([ 0.91949756, -1.02955019, -1.02955019, ..., -1.02955019,\n",
       "       -1.02955019,  0.91949756])"
      ]
     },
     "execution_count": 36,
     "metadata": {},
     "output_type": "execute_result"
    }
   ],
   "source": [
    "rfr.predict(insuranceNormal.loc[:, insuranceNormal.columns != 'log_charges'])"
   ]
  },
  {
   "cell_type": "markdown",
   "metadata": {},
   "source": [
    "### Validation Curves"
   ]
  },
  {
   "cell_type": "code",
   "execution_count": 37,
   "metadata": {},
   "outputs": [],
   "source": [
    "def rfr_cross_validation(formula, builder, data, fold_count=10, repetitions=3):\n",
    "    indices = list(range(len( data)))\n",
    "    metrics = {\"train\": [], \"test\": []}\n",
    "    for _ in range(repetitions):\n",
    "        random.shuffle(indices)\n",
    "        folds = chunk(indices, fold_count)\n",
    "        for fold in folds:\n",
    "            test_data = data.iloc[fold]\n",
    "            train_indices = [idx not in fold for idx in indices]\n",
    "            train_data = data.iloc[train_indices]\n",
    "            # y, X for training data\n",
    "            y = train_data['log_charges']\n",
    "            X = train_data.loc[:, train_data.columns != 'log_charges']\n",
    "            model = builder.fit(X, y)\n",
    "            y_hat = model.predict(X)\n",
    "            training_r_squared = (stats.pearsonr(y, y_hat)[0])**2\n",
    "            metrics[\"train\"].append(training_r_squared)\n",
    "            # y, X for training data\n",
    "            y = test_data['log_charges']\n",
    "            X = test_data.loc[:, test_data.columns != 'log_charges']\n",
    "            y_hat = model.predict(X)\n",
    "            test_r_squared = (stats.pearsonr(y, y_hat)[0])**2\n",
    "            metrics[\"test\"].append(test_r_squared)\n",
    "    return metrics"
   ]
  },
  {
   "cell_type": "code",
   "execution_count": 38,
   "metadata": {},
   "outputs": [],
   "source": [
    "test_curve = []\n",
    "train_curve = []\n",
    "for k in range(1, 16):\n",
    "    builder = RandomForestRegressor(max_depth=k, n_estimators=100, random_state=1563498164)\n",
    "    results = rfr_cross_validation(formula, builder, insuranceNormal)\n",
    "    test_curve.append(stats.mstats.mquantiles(results['test'], [0.025, 0.5, 0.975]))\n",
    "    train_curve.append(stats.mstats.mquantiles(results['train'], [0.025, 0.5, 0.975]))"
   ]
  },
  {
   "cell_type": "code",
   "execution_count": 39,
   "metadata": {},
   "outputs": [
    {
     "data": {
      "image/png": "[encoded data removed]",
      "text/plain": [
       "<Figure size 720x432 with 1 Axes>"
      ]
     },
     "metadata": {
      "needs_background": "light"
     },
     "output_type": "display_data"
    }
   ],
   "source": [
    "xs = list(range(1, 16))\n",
    "figure = plt.figure(figsize=(10, 6)) # first element is width, second is height.\n",
    "axes = figure.add_subplot(1, 1, 1)\n",
    "\n",
    "test_lower, test_mid, test_upper = zip(*test_curve)\n",
    "train_lower, train_mid, train_upper = zip(*train_curve)\n",
    "\n",
    "axes.fill_between(xs, test_lower, test_upper, alpha=0.25, color=\"firebrick\", label=\"test\")\n",
    "axes.plot(xs, test_mid, color=\"firebrick\")\n",
    "\n",
    "axes.fill_between(xs, train_lower, train_upper, alpha=0.25, color=\"cornflowerblue\", label=\"train\")\n",
    "axes.plot(xs, train_mid, color=\"cornflowerblue\")\n",
    "\n",
    "axes.set_xticks(xs)\n",
    "axes.set_xticklabels([str(x) for x in xs])\n",
    "\n",
    "axes.legend()\n",
    "axes.set_title(\"Validation Curves for Rand Tree Depth\")\n",
    "axes.set_xlabel(\"k\")\n",
    "axes.set_ylabel(\"$R^2$\")\n",
    "\n",
    "plt.show()\n",
    "plt.close()"
   ]
  },
  {
   "cell_type": "markdown",
   "metadata": {},
   "source": [
    "The two curves start to diverge slightly around 8 but more so after 10 which is also where they begin to level out. The max depth makes sense to be at about 10. "
   ]
  },
  {
   "cell_type": "markdown",
   "metadata": {},
   "source": [
    "### Cross Validation"
   ]
  },
  {
   "cell_type": "markdown",
   "metadata": {},
   "source": [
    "Now we can use the model built from the validation curves to perform 3 rounds of 10 fold cross validation to get a sense of generalization error."
   ]
  },
  {
   "cell_type": "code",
   "execution_count": 40,
   "metadata": {},
   "outputs": [],
   "source": [
    "builder =  RandomForestRegressor(max_depth=10, n_estimators=100, random_state=1563498164)\n",
    "rfr_results = rfr_cross_validation(formula, builder, insuranceNormal)"
   ]
  },
  {
   "cell_type": "code",
   "execution_count": 41,
   "metadata": {},
   "outputs": [
    {
     "name": "stdout",
     "output_type": "stream",
     "text": [
      "95% CI for R^2: [0.89820956 0.980994  ]\n"
     ]
    }
   ],
   "source": [
    "print(r\"95% CI for R^2:\", stats.mstats.mquantiles(rfr_results['test'], [0.025, 0.975]))"
   ]
  },
  {
   "cell_type": "markdown",
   "metadata": {},
   "source": [
    "With a max dpeth of 10, the Random Forest model has a 95% credible interval between .907 and .981."
   ]
  },
  {
   "cell_type": "markdown",
   "metadata": {},
   "source": [
    "### Importance of the Features"
   ]
  },
  {
   "cell_type": "code",
   "execution_count": 42,
   "metadata": {},
   "outputs": [
    {
     "name": "stdout",
     "output_type": "stream",
     "text": [
      "[0.38364942 0.01063322 0.09501517 0.04532716 0.44410792 0.00743833\n",
      " 0.00811983 0.00570895]\n"
     ]
    }
   ],
   "source": [
    "print(builder.feature_importances_)"
   ]
  },
  {
   "cell_type": "markdown",
   "metadata": {},
   "source": [
    "The random forest regressor model used eight features with the first and the fifth being the most influencial by far. "
   ]
  },
  {
   "cell_type": "markdown",
   "metadata": {},
   "source": [
    "### Model Comparison"
   ]
  },
  {
   "cell_type": "markdown",
   "metadata": {},
   "source": [
    "We will compare how this model performs compared to that of the original linear regression model. I will use the linear regression results from prior."
   ]
  },
  {
   "cell_type": "code",
   "execution_count": 43,
   "metadata": {},
   "outputs": [],
   "source": [
    "rfr_bootstrap = bootstrap_sample(rfr_results['test'], np.mean)\n",
    "lr_bootstrap = bootstrap_sample([r[1] for r in lr_result], np.mean)\n",
    "difference = rfr_bootstrap - lr_bootstrap"
   ]
  },
  {
   "cell_type": "code",
   "execution_count": 44,
   "metadata": {},
   "outputs": [
    {
     "data": {
      "image/png": "[encoded data removed]",
      "text/plain": [
       "<Figure size 1440x432 with 3 Axes>"
      ]
     },
     "metadata": {
      "needs_background": "light"
     },
     "output_type": "display_data"
    }
   ],
   "source": [
    "figure = plt.figure(figsize=(20, 6)) # first element is width, second is height.\n",
    "\n",
    "axes = figure.add_subplot(1, 3, 1)\n",
    "\n",
    "axes.hist(dtr_bootstrap, density=True)\n",
    "axes.set_ylabel( \"Density\")\n",
    "axes.set_xlabel( \"$R^2$\")\n",
    "axes.set_title( \"Posterior Distribution of RFR $R^2$\")\n",
    "\n",
    "axes = figure.add_subplot(1, 3, 2)\n",
    "\n",
    "axes.hist(lr_bootstrap, density=True)\n",
    "axes.set_ylabel( \"Density\")\n",
    "axes.set_xlabel( \"$R^2$\")\n",
    "axes.set_title( \"Posterior Distribution of Linear Regression $R^2$\")\n",
    "\n",
    "axes = figure.add_subplot(1, 3, 3)\n",
    "\n",
    "axes.hist( difference, density=True)\n",
    "axes.set_ylabel( \"Density\")\n",
    "axes.set_xlabel( \"Difference\")\n",
    "axes.set_title( \"Posterior Distribution of Difference in $R^2$\")\n",
    "\n",
    "plt.show()\n",
    "plt.close()"
   ]
  },
  {
   "cell_type": "code",
   "execution_count": 45,
   "metadata": {},
   "outputs": [
    {
     "name": "stdout",
     "output_type": "stream",
     "text": [
      "P(DTR > LR) 1.0\n"
     ]
    }
   ],
   "source": [
    "print(\"P(DTR > LR)\", np.mean(difference > 0))"
   ]
  },
  {
   "cell_type": "markdown",
   "metadata": {},
   "source": [
    "The random forest model R^2 is 100% likely to be greater than the linear regression R^2. The difference is around .15 to .21 larger for the random forest model."
   ]
  }
 ],
 "metadata": {
  "kernelspec": {
   "display_name": "Python (en685648)",
   "language": "python",
   "name": "en685648"
  },
  "language_info": {
   "codemirror_mode": {
    "name": "ipython",
    "version": 3
   },
   "file_extension": ".py",
   "mimetype": "text/x-python",
   "name": "python",
   "nbconvert_exporter": "python",
   "pygments_lexer": "ipython3",
   "version": "3.7.3"
  },
  "toc": {
   "colors": {
    "hover_highlight": "#DAA520",
    "navigate_num": "#000000",
    "navigate_text": "#333333",
    "running_highlight": "#FF0000",
    "selected_highlight": "#FFD700",
    "sidebar_border": "#EEEEEE",
    "wrapper_background": "#FFFFFF"
   },
   "moveMenuLeft": true,
   "nav_menu": {
    "height": "63px",
    "width": "252px"
   },
   "navigate_menu": true,
   "number_sections": true,
   "sideBar": true,
   "threshold": 4,
   "toc_cell": false,
   "toc_section_display": "block",
   "toc_window_display": false,
   "widenNotebook": false
  }
 },
 "nbformat": 4,
 "nbformat_minor": 1
}
